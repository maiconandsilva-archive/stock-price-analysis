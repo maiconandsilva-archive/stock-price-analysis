{
 "metadata": {
  "language_info": {
   "codemirror_mode": {
    "name": "ipython",
    "version": 3
   },
   "file_extension": ".py",
   "mimetype": "text/x-python",
   "name": "python",
   "nbconvert_exporter": "python",
   "pygments_lexer": "ipython3",
   "version": "3.8.2-final"
  },
  "orig_nbformat": 2,
  "kernelspec": {
   "name": "python3",
   "display_name": "Python 3.8.2 64-bit ('.venv')",
   "metadata": {
    "interpreter": {
     "hash": "a929ff2be5896e011b273eba0235c9a02b8ca845e605fd831661f7182e7c90f4"
    }
   }
  }
 },
 "nbformat": 4,
 "nbformat_minor": 2,
 "cells": [
  {
   "cell_type": "code",
   "execution_count": 1,
   "metadata": {},
   "outputs": [],
   "source": [
    "import datetime as dt\n",
    "import pandas as pd\n",
    "\n",
    "import cotacoes as ct\n",
    "\n",
    "from fetchdata import buscar_cotacoes_yahoo"
   ]
  },
  {
   "cell_type": "code",
   "execution_count": 2,
   "metadata": {},
   "outputs": [],
   "source": [
    "pd.set_option('display.max_columns', 20)\n",
    "pd.set_option('display.max_rows', 1000)"
   ]
  },
  {
   "cell_type": "code",
   "execution_count": 3,
   "metadata": {},
   "outputs": [],
   "source": [
    "# Tickers são um código único que a bolsa\n",
    "# atribui aos instrumentos financeiros\n",
    "TICKERS = [\n",
    "    # Ações de bolsas estadounidenses\n",
    "    \"TSLA\",\n",
    "    # Ações listadas no Brasil\n",
    "    \"EMBR3.SA\",\n",
    "    # Índices de bolsas mundiais\n",
    "    \"^BVSP\",\n",
    "]"
   ]
  },
  {
   "cell_type": "code",
   "execution_count": 4,
   "metadata": {},
   "outputs": [],
   "source": [
    "# Duração das séries a serem analisadas. Datas no formato ano, mes, dia\n",
    "SERIE_1_PERIODO = {\"inicio\": dt.date(2019, 1, 1), \"fim\": dt.date(2019, 12, 31)}\n",
    "SERIE_2_PERIODO = {\"inicio\": dt.date(2020, 1, 1), \"fim\": dt.date.today()}"
   ]
  },
  {
   "cell_type": "code",
   "execution_count": 5,
   "metadata": {},
   "outputs": [],
   "source": [
    "# Séries a serem analisadas (cotações de dois anos diferentes)\n",
    "cotacoes_s1 = buscar_cotacoes_yahoo(\"^BVSP\", SERIE_1_PERIODO)\n",
    "cotacoes_s2 = buscar_cotacoes_yahoo(\"^BVSP\", SERIE_2_PERIODO)"
   ]
  },
  {
   "source": [
    "### Tabela de classes\n",
    "\n",
    "O volume de negócios nos dias em que o fechamento da cotação ficou entre U\\$ 35.40 e U\\$ 40.56 foi de quase 702 milhões de negócios."
   ],
   "cell_type": "markdown",
   "metadata": {}
  },
  {
   "cell_type": "code",
   "execution_count": 6,
   "metadata": {},
   "outputs": [
    {
     "output_type": "execute_result",
     "data": {
      "text/plain": [
       "                High       Low      Open     Close     Volume  Adj Close\n",
       "Date                                                                    \n",
       "2019-01-02   91479.0   87536.0   87887.0   91012.0  5615400.0    91012.0\n",
       "2019-01-03   91596.0   89922.0   91011.0   91564.0  6066200.0    91564.0\n",
       "2019-01-04   92701.0   90824.0   91577.0   91841.0  5322100.0    91841.0\n",
       "2019-01-07   92552.0   91288.0   91845.0   91699.0  4565000.0    91699.0\n",
       "2019-01-08   92231.0   91064.0   91699.0   92032.0  4496500.0    92032.0\n",
       "...              ...       ...       ...       ...        ...        ...\n",
       "2019-12-20  115171.0  114526.0  115133.0  115121.0  6887400.0   115121.0\n",
       "2019-12-23  115863.0  114964.0  115119.0  115863.0  3995200.0   115863.0\n",
       "2019-12-26  117220.0  115673.0  115864.0  117203.0  3788900.0   117203.0\n",
       "2019-12-27  117803.0  115995.0  117205.0  116534.0  3905900.0   116534.0\n",
       "2019-12-30  117086.0  115790.0  116530.0  115964.0  3667900.0   115964.0\n",
       "\n",
       "[247 rows x 6 columns]"
      ],
      "text/html": "<div>\n<style scoped>\n    .dataframe tbody tr th:only-of-type {\n        vertical-align: middle;\n    }\n\n    .dataframe tbody tr th {\n        vertical-align: top;\n    }\n\n    .dataframe thead th {\n        text-align: right;\n    }\n</style>\n<table border=\"1\" class=\"dataframe\">\n  <thead>\n    <tr style=\"text-align: right;\">\n      <th></th>\n      <th>High</th>\n      <th>Low</th>\n      <th>Open</th>\n      <th>Close</th>\n      <th>Volume</th>\n      <th>Adj Close</th>\n    </tr>\n    <tr>\n      <th>Date</th>\n      <th></th>\n      <th></th>\n      <th></th>\n      <th></th>\n      <th></th>\n      <th></th>\n    </tr>\n  </thead>\n  <tbody>\n    <tr>\n      <th>2019-01-02</th>\n      <td>91479.0</td>\n      <td>87536.0</td>\n      <td>87887.0</td>\n      <td>91012.0</td>\n      <td>5615400.0</td>\n      <td>91012.0</td>\n    </tr>\n    <tr>\n      <th>2019-01-03</th>\n      <td>91596.0</td>\n      <td>89922.0</td>\n      <td>91011.0</td>\n      <td>91564.0</td>\n      <td>6066200.0</td>\n      <td>91564.0</td>\n    </tr>\n    <tr>\n      <th>2019-01-04</th>\n      <td>92701.0</td>\n      <td>90824.0</td>\n      <td>91577.0</td>\n      <td>91841.0</td>\n      <td>5322100.0</td>\n      <td>91841.0</td>\n    </tr>\n    <tr>\n      <th>2019-01-07</th>\n      <td>92552.0</td>\n      <td>91288.0</td>\n      <td>91845.0</td>\n      <td>91699.0</td>\n      <td>4565000.0</td>\n      <td>91699.0</td>\n    </tr>\n    <tr>\n      <th>2019-01-08</th>\n      <td>92231.0</td>\n      <td>91064.0</td>\n      <td>91699.0</td>\n      <td>92032.0</td>\n      <td>4496500.0</td>\n      <td>92032.0</td>\n    </tr>\n    <tr>\n      <th>...</th>\n      <td>...</td>\n      <td>...</td>\n      <td>...</td>\n      <td>...</td>\n      <td>...</td>\n      <td>...</td>\n    </tr>\n    <tr>\n      <th>2019-12-20</th>\n      <td>115171.0</td>\n      <td>114526.0</td>\n      <td>115133.0</td>\n      <td>115121.0</td>\n      <td>6887400.0</td>\n      <td>115121.0</td>\n    </tr>\n    <tr>\n      <th>2019-12-23</th>\n      <td>115863.0</td>\n      <td>114964.0</td>\n      <td>115119.0</td>\n      <td>115863.0</td>\n      <td>3995200.0</td>\n      <td>115863.0</td>\n    </tr>\n    <tr>\n      <th>2019-12-26</th>\n      <td>117220.0</td>\n      <td>115673.0</td>\n      <td>115864.0</td>\n      <td>117203.0</td>\n      <td>3788900.0</td>\n      <td>117203.0</td>\n    </tr>\n    <tr>\n      <th>2019-12-27</th>\n      <td>117803.0</td>\n      <td>115995.0</td>\n      <td>117205.0</td>\n      <td>116534.0</td>\n      <td>3905900.0</td>\n      <td>116534.0</td>\n    </tr>\n    <tr>\n      <th>2019-12-30</th>\n      <td>117086.0</td>\n      <td>115790.0</td>\n      <td>116530.0</td>\n      <td>115964.0</td>\n      <td>3667900.0</td>\n      <td>115964.0</td>\n    </tr>\n  </tbody>\n</table>\n<p>247 rows × 6 columns</p>\n</div>"
     },
     "metadata": {},
     "execution_count": 6
    }
   ],
   "source": [
    "cotacoes_s1"
   ]
  },
  {
   "cell_type": "code",
   "execution_count": 7,
   "metadata": {},
   "outputs": [
    {
     "output_type": "error",
     "ename": "TypeError",
     "evalue": "'numpy.float64' object cannot be interpreted as an integer",
     "traceback": [
      "\u001b[1;31m---------------------------------------------------------------------------\u001b[0m",
      "\u001b[1;31mTypeError\u001b[0m                                 Traceback (most recent call last)",
      "\u001b[1;32m<ipython-input-7-fef138caba31>\u001b[0m in \u001b[0;36m<module>\u001b[1;34m\u001b[0m\n\u001b[1;32m----> 1\u001b[1;33m \u001b[0mcotacoes_s2\u001b[0m\u001b[1;33m.\u001b[0m\u001b[0manalise\u001b[0m\u001b[1;33m.\u001b[0m\u001b[0mtabela_classes\u001b[0m\u001b[1;33m\u001b[0m\u001b[1;33m\u001b[0m\u001b[0m\n\u001b[0m",
      "\u001b[1;32mC:\\Python38\\lib\\functools.py\u001b[0m in \u001b[0;36m__get__\u001b[1;34m(self, instance, owner)\u001b[0m\n\u001b[0;32m    964\u001b[0m                 \u001b[0mval\u001b[0m \u001b[1;33m=\u001b[0m \u001b[0mcache\u001b[0m\u001b[1;33m.\u001b[0m\u001b[0mget\u001b[0m\u001b[1;33m(\u001b[0m\u001b[0mself\u001b[0m\u001b[1;33m.\u001b[0m\u001b[0mattrname\u001b[0m\u001b[1;33m,\u001b[0m \u001b[0m_NOT_FOUND\u001b[0m\u001b[1;33m)\u001b[0m\u001b[1;33m\u001b[0m\u001b[1;33m\u001b[0m\u001b[0m\n\u001b[0;32m    965\u001b[0m                 \u001b[1;32mif\u001b[0m \u001b[0mval\u001b[0m \u001b[1;32mis\u001b[0m \u001b[0m_NOT_FOUND\u001b[0m\u001b[1;33m:\u001b[0m\u001b[1;33m\u001b[0m\u001b[1;33m\u001b[0m\u001b[0m\n\u001b[1;32m--> 966\u001b[1;33m                     \u001b[0mval\u001b[0m \u001b[1;33m=\u001b[0m \u001b[0mself\u001b[0m\u001b[1;33m.\u001b[0m\u001b[0mfunc\u001b[0m\u001b[1;33m(\u001b[0m\u001b[0minstance\u001b[0m\u001b[1;33m)\u001b[0m\u001b[1;33m\u001b[0m\u001b[1;33m\u001b[0m\u001b[0m\n\u001b[0m\u001b[0;32m    967\u001b[0m                     \u001b[1;32mtry\u001b[0m\u001b[1;33m:\u001b[0m\u001b[1;33m\u001b[0m\u001b[1;33m\u001b[0m\u001b[0m\n\u001b[0;32m    968\u001b[0m                         \u001b[0mcache\u001b[0m\u001b[1;33m[\u001b[0m\u001b[0mself\u001b[0m\u001b[1;33m.\u001b[0m\u001b[0mattrname\u001b[0m\u001b[1;33m]\u001b[0m \u001b[1;33m=\u001b[0m \u001b[0mval\u001b[0m\u001b[1;33m\u001b[0m\u001b[1;33m\u001b[0m\u001b[0m\n",
      "\u001b[1;32mc:\\Users\\yo\\Documents\\MEGA\\FATEC\\EST-APL\\COTAHIST\\analysis\\cotacoes.py\u001b[0m in \u001b[0;36mtabela_classes\u001b[1;34m(self)\u001b[0m\n\u001b[0;32m     88\u001b[0m         _s = (self._serie\n\u001b[0;32m     89\u001b[0m             \u001b[1;33m.\u001b[0m\u001b[0mdrop\u001b[0m\u001b[1;33m(\u001b[0m\u001b[0mcolumns\u001b[0m\u001b[1;33m=\u001b[0m\u001b[1;33m[\u001b[0m\u001b[1;34m'Adj Close'\u001b[0m\u001b[1;33m,\u001b[0m \u001b[1;34m'High'\u001b[0m\u001b[1;33m,\u001b[0m \u001b[1;34m'Low'\u001b[0m\u001b[1;33m,\u001b[0m \u001b[1;34m'Open'\u001b[0m\u001b[1;33m]\u001b[0m\u001b[1;33m)\u001b[0m\u001b[1;33m\u001b[0m\u001b[1;33m\u001b[0m\u001b[0m\n\u001b[1;32m---> 90\u001b[1;33m             \u001b[1;33m.\u001b[0m\u001b[0mgroupby\u001b[0m\u001b[1;33m(\u001b[0m\u001b[0mpd\u001b[0m\u001b[1;33m.\u001b[0m\u001b[0mcut\u001b[0m\u001b[1;33m(\u001b[0m\u001b[0mself\u001b[0m\u001b[1;33m.\u001b[0m\u001b[0m_serie\u001b[0m\u001b[1;33m[\u001b[0m\u001b[1;34m'Close'\u001b[0m\u001b[1;33m]\u001b[0m\u001b[1;33m,\u001b[0m \u001b[0mbins\u001b[0m\u001b[1;33m=\u001b[0m\u001b[0mself\u001b[0m\u001b[1;33m.\u001b[0m\u001b[0mnclasses\u001b[0m\u001b[1;33m)\u001b[0m\u001b[1;33m)\u001b[0m \u001b[1;31m#classes))\u001b[0m\u001b[1;33m\u001b[0m\u001b[1;33m\u001b[0m\u001b[0m\n\u001b[0m\u001b[0;32m     91\u001b[0m             \u001b[1;33m.\u001b[0m\u001b[0msum\u001b[0m\u001b[1;33m(\u001b[0m\u001b[1;33m)\u001b[0m\u001b[1;33m\u001b[0m\u001b[1;33m\u001b[0m\u001b[0m\n\u001b[0;32m     92\u001b[0m             .drop(columns=['Close']))\n",
      "\u001b[1;32mc:\\Users\\yo\\Documents\\MEGA\\FATEC\\EST-APL\\COTAHIST\\analysis\\.venv\\lib\\site-packages\\pandas\\core\\reshape\\tile.py\u001b[0m in \u001b[0;36mcut\u001b[1;34m(x, bins, right, labels, retbins, precision, include_lowest, duplicates, ordered)\u001b[0m\n\u001b[0;32m    251\u001b[0m             \u001b[0mbins\u001b[0m \u001b[1;33m=\u001b[0m \u001b[0mnp\u001b[0m\u001b[1;33m.\u001b[0m\u001b[0mlinspace\u001b[0m\u001b[1;33m(\u001b[0m\u001b[0mmn\u001b[0m\u001b[1;33m,\u001b[0m \u001b[0mmx\u001b[0m\u001b[1;33m,\u001b[0m \u001b[0mbins\u001b[0m \u001b[1;33m+\u001b[0m \u001b[1;36m1\u001b[0m\u001b[1;33m,\u001b[0m \u001b[0mendpoint\u001b[0m\u001b[1;33m=\u001b[0m\u001b[1;32mTrue\u001b[0m\u001b[1;33m)\u001b[0m\u001b[1;33m\u001b[0m\u001b[1;33m\u001b[0m\u001b[0m\n\u001b[0;32m    252\u001b[0m         \u001b[1;32melse\u001b[0m\u001b[1;33m:\u001b[0m  \u001b[1;31m# adjust end points after binning\u001b[0m\u001b[1;33m\u001b[0m\u001b[1;33m\u001b[0m\u001b[0m\n\u001b[1;32m--> 253\u001b[1;33m             \u001b[0mbins\u001b[0m \u001b[1;33m=\u001b[0m \u001b[0mnp\u001b[0m\u001b[1;33m.\u001b[0m\u001b[0mlinspace\u001b[0m\u001b[1;33m(\u001b[0m\u001b[0mmn\u001b[0m\u001b[1;33m,\u001b[0m \u001b[0mmx\u001b[0m\u001b[1;33m,\u001b[0m \u001b[0mbins\u001b[0m \u001b[1;33m+\u001b[0m \u001b[1;36m1\u001b[0m\u001b[1;33m,\u001b[0m \u001b[0mendpoint\u001b[0m\u001b[1;33m=\u001b[0m\u001b[1;32mTrue\u001b[0m\u001b[1;33m)\u001b[0m\u001b[1;33m\u001b[0m\u001b[1;33m\u001b[0m\u001b[0m\n\u001b[0m\u001b[0;32m    254\u001b[0m             \u001b[0madj\u001b[0m \u001b[1;33m=\u001b[0m \u001b[1;33m(\u001b[0m\u001b[0mmx\u001b[0m \u001b[1;33m-\u001b[0m \u001b[0mmn\u001b[0m\u001b[1;33m)\u001b[0m \u001b[1;33m*\u001b[0m \u001b[1;36m0.001\u001b[0m  \u001b[1;31m# 0.1% of the range\u001b[0m\u001b[1;33m\u001b[0m\u001b[1;33m\u001b[0m\u001b[0m\n\u001b[0;32m    255\u001b[0m             \u001b[1;32mif\u001b[0m \u001b[0mright\u001b[0m\u001b[1;33m:\u001b[0m\u001b[1;33m\u001b[0m\u001b[1;33m\u001b[0m\u001b[0m\n",
      "\u001b[1;32m<__array_function__ internals>\u001b[0m in \u001b[0;36mlinspace\u001b[1;34m(*args, **kwargs)\u001b[0m\n",
      "\u001b[1;32mc:\\Users\\yo\\Documents\\MEGA\\FATEC\\EST-APL\\COTAHIST\\analysis\\.venv\\lib\\site-packages\\numpy\\core\\function_base.py\u001b[0m in \u001b[0;36mlinspace\u001b[1;34m(start, stop, num, endpoint, retstep, dtype, axis)\u001b[0m\n\u001b[0;32m    111\u001b[0m \u001b[1;33m\u001b[0m\u001b[0m\n\u001b[0;32m    112\u001b[0m     \"\"\"\n\u001b[1;32m--> 113\u001b[1;33m     \u001b[0mnum\u001b[0m \u001b[1;33m=\u001b[0m \u001b[0moperator\u001b[0m\u001b[1;33m.\u001b[0m\u001b[0mindex\u001b[0m\u001b[1;33m(\u001b[0m\u001b[0mnum\u001b[0m\u001b[1;33m)\u001b[0m\u001b[1;33m\u001b[0m\u001b[1;33m\u001b[0m\u001b[0m\n\u001b[0m\u001b[0;32m    114\u001b[0m     \u001b[1;32mif\u001b[0m \u001b[0mnum\u001b[0m \u001b[1;33m<\u001b[0m \u001b[1;36m0\u001b[0m\u001b[1;33m:\u001b[0m\u001b[1;33m\u001b[0m\u001b[1;33m\u001b[0m\u001b[0m\n\u001b[0;32m    115\u001b[0m         \u001b[1;32mraise\u001b[0m \u001b[0mValueError\u001b[0m\u001b[1;33m(\u001b[0m\u001b[1;34m\"Number of samples, %s, must be non-negative.\"\u001b[0m \u001b[1;33m%\u001b[0m \u001b[0mnum\u001b[0m\u001b[1;33m)\u001b[0m\u001b[1;33m\u001b[0m\u001b[1;33m\u001b[0m\u001b[0m\n",
      "\u001b[1;31mTypeError\u001b[0m: 'numpy.float64' object cannot be interpreted as an integer"
     ]
    }
   ],
   "source": [
    "cotacoes_s2.analise.tabela_classes"
   ]
  },
  {
   "source": [
    "### Volume diminuindo"
   ],
   "cell_type": "markdown",
   "metadata": {}
  },
  {
   "cell_type": "code",
   "execution_count": 8,
   "metadata": {},
   "outputs": [
    {
     "output_type": "execute_result",
     "data": {
      "text/plain": [
       "                High       Low      Open     Close     Volume  Adj Close\n",
       "Date                                                                    \n",
       "2019-01-02   91479.0   87536.0   87887.0   91012.0  5615400.0    91012.0\n",
       "2019-01-03   91596.0   89922.0   91011.0   91564.0  6066200.0    91564.0\n",
       "2019-01-04   92701.0   90824.0   91577.0   91841.0  5322100.0    91841.0\n",
       "2019-01-07   92552.0   91288.0   91845.0   91699.0  4565000.0    91699.0\n",
       "2019-01-08   92231.0   91064.0   91699.0   92032.0  4496500.0    92032.0\n",
       "...              ...       ...       ...       ...        ...        ...\n",
       "2019-12-20  115171.0  114526.0  115133.0  115121.0  6887400.0   115121.0\n",
       "2019-12-23  115863.0  114964.0  115119.0  115863.0  3995200.0   115863.0\n",
       "2019-12-26  117220.0  115673.0  115864.0  117203.0  3788900.0   117203.0\n",
       "2019-12-27  117803.0  115995.0  117205.0  116534.0  3905900.0   116534.0\n",
       "2019-12-30  117086.0  115790.0  116530.0  115964.0  3667900.0   115964.0\n",
       "\n",
       "[247 rows x 6 columns]"
      ],
      "text/html": "<div>\n<style scoped>\n    .dataframe tbody tr th:only-of-type {\n        vertical-align: middle;\n    }\n\n    .dataframe tbody tr th {\n        vertical-align: top;\n    }\n\n    .dataframe thead th {\n        text-align: right;\n    }\n</style>\n<table border=\"1\" class=\"dataframe\">\n  <thead>\n    <tr style=\"text-align: right;\">\n      <th></th>\n      <th>High</th>\n      <th>Low</th>\n      <th>Open</th>\n      <th>Close</th>\n      <th>Volume</th>\n      <th>Adj Close</th>\n    </tr>\n    <tr>\n      <th>Date</th>\n      <th></th>\n      <th></th>\n      <th></th>\n      <th></th>\n      <th></th>\n      <th></th>\n    </tr>\n  </thead>\n  <tbody>\n    <tr>\n      <th>2019-01-02</th>\n      <td>91479.0</td>\n      <td>87536.0</td>\n      <td>87887.0</td>\n      <td>91012.0</td>\n      <td>5615400.0</td>\n      <td>91012.0</td>\n    </tr>\n    <tr>\n      <th>2019-01-03</th>\n      <td>91596.0</td>\n      <td>89922.0</td>\n      <td>91011.0</td>\n      <td>91564.0</td>\n      <td>6066200.0</td>\n      <td>91564.0</td>\n    </tr>\n    <tr>\n      <th>2019-01-04</th>\n      <td>92701.0</td>\n      <td>90824.0</td>\n      <td>91577.0</td>\n      <td>91841.0</td>\n      <td>5322100.0</td>\n      <td>91841.0</td>\n    </tr>\n    <tr>\n      <th>2019-01-07</th>\n      <td>92552.0</td>\n      <td>91288.0</td>\n      <td>91845.0</td>\n      <td>91699.0</td>\n      <td>4565000.0</td>\n      <td>91699.0</td>\n    </tr>\n    <tr>\n      <th>2019-01-08</th>\n      <td>92231.0</td>\n      <td>91064.0</td>\n      <td>91699.0</td>\n      <td>92032.0</td>\n      <td>4496500.0</td>\n      <td>92032.0</td>\n    </tr>\n    <tr>\n      <th>...</th>\n      <td>...</td>\n      <td>...</td>\n      <td>...</td>\n      <td>...</td>\n      <td>...</td>\n      <td>...</td>\n    </tr>\n    <tr>\n      <th>2019-12-20</th>\n      <td>115171.0</td>\n      <td>114526.0</td>\n      <td>115133.0</td>\n      <td>115121.0</td>\n      <td>6887400.0</td>\n      <td>115121.0</td>\n    </tr>\n    <tr>\n      <th>2019-12-23</th>\n      <td>115863.0</td>\n      <td>114964.0</td>\n      <td>115119.0</td>\n      <td>115863.0</td>\n      <td>3995200.0</td>\n      <td>115863.0</td>\n    </tr>\n    <tr>\n      <th>2019-12-26</th>\n      <td>117220.0</td>\n      <td>115673.0</td>\n      <td>115864.0</td>\n      <td>117203.0</td>\n      <td>3788900.0</td>\n      <td>117203.0</td>\n    </tr>\n    <tr>\n      <th>2019-12-27</th>\n      <td>117803.0</td>\n      <td>115995.0</td>\n      <td>117205.0</td>\n      <td>116534.0</td>\n      <td>3905900.0</td>\n      <td>116534.0</td>\n    </tr>\n    <tr>\n      <th>2019-12-30</th>\n      <td>117086.0</td>\n      <td>115790.0</td>\n      <td>116530.0</td>\n      <td>115964.0</td>\n      <td>3667900.0</td>\n      <td>115964.0</td>\n    </tr>\n  </tbody>\n</table>\n<p>247 rows × 6 columns</p>\n</div>"
     },
     "metadata": {},
     "execution_count": 8
    }
   ],
   "source": [
    "cotacoes_s1"
   ]
  },
  {
   "cell_type": "code",
   "execution_count": 9,
   "metadata": {},
   "outputs": [
    {
     "output_type": "stream",
     "name": "stdout",
     "text": [
      "1482\n"
     ]
    },
    {
     "output_type": "execute_result",
     "data": {
      "text/plain": [
       "Volume\n",
       "(0.0, 6.0]       1\n",
       "(6.0, 12.0]      0\n",
       "(12.0, 18.0]     0\n",
       "(18.0, 24.0]     0\n",
       "(24.0, 30.0]     5\n",
       "(30.0, 36.0]    17\n",
       "(36.0, 42.0]    54\n",
       "(42.0, 48.0]    63\n",
       "(48.0, 54.0]    55\n",
       "(54.0, 60.0]    29\n",
       "(60.0, 66.0]    10\n",
       "(66.0, 72.0]     8\n",
       "(72.0, 78.0]     1\n",
       "(78.0, 84.0]     1\n",
       "(84.0, 90.0]     0\n",
       "Name: Volume, dtype: int64"
      ]
     },
     "metadata": {},
     "execution_count": 9
    }
   ],
   "source": [
    "cotacoes_s1.nclasses = 10\n",
    "cotacoes_s1.analise.tabela_classes_volume"
   ]
  },
  {
   "cell_type": "code",
   "execution_count": 10,
   "metadata": {},
   "outputs": [
    {
     "output_type": "execute_result",
     "data": {
      "text/plain": [
       "1162353500.0"
      ]
     },
     "metadata": {},
     "execution_count": 10
    }
   ],
   "source": [
    "cotacoes_s1.analise.volumetotal"
   ]
  },
  {
   "cell_type": "code",
   "execution_count": 11,
   "metadata": {
    "tags": []
   },
   "outputs": [
    {
     "output_type": "execute_result",
     "data": {
      "text/plain": [
       "                      Open\n",
       "Open                      \n",
       "(87857.68, 90818.8]      3\n",
       "(90818.8, 93750.6]      18\n",
       "(93750.6, 96682.4]      57\n",
       "(96682.4, 99614.2]      43\n",
       "(99614.2, 102546.0]     33\n",
       "(102546.0, 105477.8]    46\n",
       "(105477.8, 108409.6]    24\n",
       "(108409.6, 111341.4]    13\n",
       "(111341.4, 114273.2]     4\n",
       "(114273.2, 117205.0]     6"
      ],
      "text/html": "<div>\n<style scoped>\n    .dataframe tbody tr th:only-of-type {\n        vertical-align: middle;\n    }\n\n    .dataframe tbody tr th {\n        vertical-align: top;\n    }\n\n    .dataframe thead th {\n        text-align: right;\n    }\n</style>\n<table border=\"1\" class=\"dataframe\">\n  <thead>\n    <tr style=\"text-align: right;\">\n      <th></th>\n      <th>Open</th>\n    </tr>\n    <tr>\n      <th>Open</th>\n      <th></th>\n    </tr>\n  </thead>\n  <tbody>\n    <tr>\n      <th>(87857.68, 90818.8]</th>\n      <td>3</td>\n    </tr>\n    <tr>\n      <th>(90818.8, 93750.6]</th>\n      <td>18</td>\n    </tr>\n    <tr>\n      <th>(93750.6, 96682.4]</th>\n      <td>57</td>\n    </tr>\n    <tr>\n      <th>(96682.4, 99614.2]</th>\n      <td>43</td>\n    </tr>\n    <tr>\n      <th>(99614.2, 102546.0]</th>\n      <td>33</td>\n    </tr>\n    <tr>\n      <th>(102546.0, 105477.8]</th>\n      <td>46</td>\n    </tr>\n    <tr>\n      <th>(105477.8, 108409.6]</th>\n      <td>24</td>\n    </tr>\n    <tr>\n      <th>(108409.6, 111341.4]</th>\n      <td>13</td>\n    </tr>\n    <tr>\n      <th>(111341.4, 114273.2]</th>\n      <td>4</td>\n    </tr>\n    <tr>\n      <th>(114273.2, 117205.0]</th>\n      <td>6</td>\n    </tr>\n  </tbody>\n</table>\n</div>"
     },
     "metadata": {},
     "execution_count": 11
    }
   ],
   "source": [
    "cotacoes_s1.analise.tabela_classes_cotacoes('Open')"
   ]
  },
  {
   "cell_type": "code",
   "execution_count": 12,
   "metadata": {},
   "outputs": [
    {
     "output_type": "execute_result",
     "data": {
      "text/plain": [
       "                      Open\n",
       "Open                      \n",
       "(63548.08, 69196.4]      4\n",
       "(69196.4, 74788.8]      11\n",
       "(74788.8, 80381.2]      24\n",
       "(80381.2, 85973.6]      13\n",
       "(85973.6, 91566.0]       6\n",
       "(91566.0, 97158.4]      38\n",
       "(97158.4, 102750.8]     62\n",
       "(102750.8, 108343.2]    28\n",
       "(108343.2, 113935.6]    14\n",
       "(113935.6, 119528.0]    34"
      ],
      "text/html": "<div>\n<style scoped>\n    .dataframe tbody tr th:only-of-type {\n        vertical-align: middle;\n    }\n\n    .dataframe tbody tr th {\n        vertical-align: top;\n    }\n\n    .dataframe thead th {\n        text-align: right;\n    }\n</style>\n<table border=\"1\" class=\"dataframe\">\n  <thead>\n    <tr style=\"text-align: right;\">\n      <th></th>\n      <th>Open</th>\n    </tr>\n    <tr>\n      <th>Open</th>\n      <th></th>\n    </tr>\n  </thead>\n  <tbody>\n    <tr>\n      <th>(63548.08, 69196.4]</th>\n      <td>4</td>\n    </tr>\n    <tr>\n      <th>(69196.4, 74788.8]</th>\n      <td>11</td>\n    </tr>\n    <tr>\n      <th>(74788.8, 80381.2]</th>\n      <td>24</td>\n    </tr>\n    <tr>\n      <th>(80381.2, 85973.6]</th>\n      <td>13</td>\n    </tr>\n    <tr>\n      <th>(85973.6, 91566.0]</th>\n      <td>6</td>\n    </tr>\n    <tr>\n      <th>(91566.0, 97158.4]</th>\n      <td>38</td>\n    </tr>\n    <tr>\n      <th>(97158.4, 102750.8]</th>\n      <td>62</td>\n    </tr>\n    <tr>\n      <th>(102750.8, 108343.2]</th>\n      <td>28</td>\n    </tr>\n    <tr>\n      <th>(108343.2, 113935.6]</th>\n      <td>14</td>\n    </tr>\n    <tr>\n      <th>(113935.6, 119528.0]</th>\n      <td>34</td>\n    </tr>\n  </tbody>\n</table>\n</div>"
     },
     "metadata": {},
     "execution_count": 12
    }
   ],
   "source": [
    "cotacoes_s2.analise.tabela_classes_cotacoes('Open')"
   ]
  },
  {
   "cell_type": "code",
   "execution_count": 13,
   "metadata": {},
   "outputs": [
    {
     "output_type": "execute_result",
     "data": {
      "text/plain": [
       "55924.0"
      ]
     },
     "metadata": {},
     "execution_count": 13
    }
   ],
   "source": [
    "cotacoes_s2.analise.amplitude('Open')"
   ]
  },
  {
   "cell_type": "code",
   "execution_count": 14,
   "metadata": {},
   "outputs": [
    {
     "output_type": "execute_result",
     "data": {
      "text/plain": [
       "                Open         Close      High       Low       Volume\n",
       "Date                                                               \n",
       "2020-01-31  115652.0  113761.00000  119593.0  112825.0  122061200.0\n",
       "2020-02-29  113761.0  104172.00000  117701.0   99951.0  112914700.0\n",
       "2020-03-31  104260.0   73020.00000  108804.0   61691.0  270525000.0\n",
       "2020-04-30   73011.0   80506.00000   83598.0   67802.0  209517900.0\n",
       "2020-05-31   80501.0   87403.00000   88091.0   75697.0  220355900.0\n",
       "2020-06-30   87395.0   95056.00000   97693.0   86837.0  232321100.0\n",
       "2020-07-31   95062.0  102912.00000  105704.0   95062.0  212054200.0\n",
       "2020-08-31  102913.0   99369.00000  104523.0   98513.0  202682200.0\n",
       "2020-09-30   99382.0   94603.00000  103226.0   93408.0  182459100.0\n",
       "2020-10-31   94604.0   93952.00000  102218.0   93387.0  198128300.0\n",
       "2020-11-30   93968.0  108888.00000  111603.0   93968.0  210654500.0\n",
       "2020-12-31  108897.0  113001.15625  114531.0  108897.0   59951000.0"
      ],
      "text/html": "<div>\n<style scoped>\n    .dataframe tbody tr th:only-of-type {\n        vertical-align: middle;\n    }\n\n    .dataframe tbody tr th {\n        vertical-align: top;\n    }\n\n    .dataframe thead th {\n        text-align: right;\n    }\n</style>\n<table border=\"1\" class=\"dataframe\">\n  <thead>\n    <tr style=\"text-align: right;\">\n      <th></th>\n      <th>Open</th>\n      <th>Close</th>\n      <th>High</th>\n      <th>Low</th>\n      <th>Volume</th>\n    </tr>\n    <tr>\n      <th>Date</th>\n      <th></th>\n      <th></th>\n      <th></th>\n      <th></th>\n      <th></th>\n    </tr>\n  </thead>\n  <tbody>\n    <tr>\n      <th>2020-01-31</th>\n      <td>115652.0</td>\n      <td>113761.00000</td>\n      <td>119593.0</td>\n      <td>112825.0</td>\n      <td>122061200.0</td>\n    </tr>\n    <tr>\n      <th>2020-02-29</th>\n      <td>113761.0</td>\n      <td>104172.00000</td>\n      <td>117701.0</td>\n      <td>99951.0</td>\n      <td>112914700.0</td>\n    </tr>\n    <tr>\n      <th>2020-03-31</th>\n      <td>104260.0</td>\n      <td>73020.00000</td>\n      <td>108804.0</td>\n      <td>61691.0</td>\n      <td>270525000.0</td>\n    </tr>\n    <tr>\n      <th>2020-04-30</th>\n      <td>73011.0</td>\n      <td>80506.00000</td>\n      <td>83598.0</td>\n      <td>67802.0</td>\n      <td>209517900.0</td>\n    </tr>\n    <tr>\n      <th>2020-05-31</th>\n      <td>80501.0</td>\n      <td>87403.00000</td>\n      <td>88091.0</td>\n      <td>75697.0</td>\n      <td>220355900.0</td>\n    </tr>\n    <tr>\n      <th>2020-06-30</th>\n      <td>87395.0</td>\n      <td>95056.00000</td>\n      <td>97693.0</td>\n      <td>86837.0</td>\n      <td>232321100.0</td>\n    </tr>\n    <tr>\n      <th>2020-07-31</th>\n      <td>95062.0</td>\n      <td>102912.00000</td>\n      <td>105704.0</td>\n      <td>95062.0</td>\n      <td>212054200.0</td>\n    </tr>\n    <tr>\n      <th>2020-08-31</th>\n      <td>102913.0</td>\n      <td>99369.00000</td>\n      <td>104523.0</td>\n      <td>98513.0</td>\n      <td>202682200.0</td>\n    </tr>\n    <tr>\n      <th>2020-09-30</th>\n      <td>99382.0</td>\n      <td>94603.00000</td>\n      <td>103226.0</td>\n      <td>93408.0</td>\n      <td>182459100.0</td>\n    </tr>\n    <tr>\n      <th>2020-10-31</th>\n      <td>94604.0</td>\n      <td>93952.00000</td>\n      <td>102218.0</td>\n      <td>93387.0</td>\n      <td>198128300.0</td>\n    </tr>\n    <tr>\n      <th>2020-11-30</th>\n      <td>93968.0</td>\n      <td>108888.00000</td>\n      <td>111603.0</td>\n      <td>93968.0</td>\n      <td>210654500.0</td>\n    </tr>\n    <tr>\n      <th>2020-12-31</th>\n      <td>108897.0</td>\n      <td>113001.15625</td>\n      <td>114531.0</td>\n      <td>108897.0</td>\n      <td>59951000.0</td>\n    </tr>\n  </tbody>\n</table>\n</div>"
     },
     "metadata": {},
     "execution_count": 14
    }
   ],
   "source": [
    "cotacoes_s2.analise.cotacao_agrupada_por_periodo('M')"
   ]
  },
  {
   "cell_type": "code",
   "execution_count": 15,
   "metadata": {},
   "outputs": [
    {
     "output_type": "execute_result",
     "data": {
      "text/plain": [
       "                     High            Low          Open         Close  \\\n",
       "Date                                                                   \n",
       "2020-01-02  118573.000000  115649.000000  115652.00000  118573.00000   \n",
       "2020-01-03  118792.000000  117341.000000  118564.00000  117707.00000   \n",
       "2020-01-06  117707.000000  116269.000000  117707.00000  116878.00000   \n",
       "2020-01-07  117076.000000  115965.000000  116872.00000  116662.00000   \n",
       "2020-01-08  117335.000000  115693.000000  116667.00000  116247.00000   \n",
       "...                   ...            ...           ...           ...   \n",
       "2020-12-03  113377.000000  111874.000000  111874.00000  112919.00000   \n",
       "2020-12-04  113864.000000  112294.000000  112294.00000  113682.00000   \n",
       "2020-12-07  114531.000000  112629.000000  113751.00000  113625.00000   \n",
       "2020-12-08  114381.000000  112820.000000  113590.00000  113571.00000   \n",
       "2020-12-09  114020.398438  112566.726562  113798.53125  113001.15625   \n",
       "\n",
       "                Volume     Adj Close  Open - High  \n",
       "Date                                               \n",
       "2020-01-02   5162700.0  118573.00000 -2921.000000  \n",
       "2020-01-03   6834500.0  117707.00000  -228.000000  \n",
       "2020-01-06   6570000.0  116878.00000     0.000000  \n",
       "2020-01-07   4854100.0  116662.00000  -204.000000  \n",
       "2020-01-08   5910500.0  116247.00000  -668.000000  \n",
       "...                ...           ...          ...  \n",
       "2020-12-03  11474200.0  112919.00000 -1503.000000  \n",
       "2020-12-04   8892900.0  113682.00000 -1570.000000  \n",
       "2020-12-07   9633900.0  113625.00000  -780.000000  \n",
       "2020-12-08   8810900.0  113571.00000  -791.000000  \n",
       "2020-12-09         0.0  113001.15625  -221.867188  \n",
       "\n",
       "[234 rows x 7 columns]"
      ],
      "text/html": "<div>\n<style scoped>\n    .dataframe tbody tr th:only-of-type {\n        vertical-align: middle;\n    }\n\n    .dataframe tbody tr th {\n        vertical-align: top;\n    }\n\n    .dataframe thead th {\n        text-align: right;\n    }\n</style>\n<table border=\"1\" class=\"dataframe\">\n  <thead>\n    <tr style=\"text-align: right;\">\n      <th></th>\n      <th>High</th>\n      <th>Low</th>\n      <th>Open</th>\n      <th>Close</th>\n      <th>Volume</th>\n      <th>Adj Close</th>\n      <th>Open - High</th>\n    </tr>\n    <tr>\n      <th>Date</th>\n      <th></th>\n      <th></th>\n      <th></th>\n      <th></th>\n      <th></th>\n      <th></th>\n      <th></th>\n    </tr>\n  </thead>\n  <tbody>\n    <tr>\n      <th>2020-01-02</th>\n      <td>118573.000000</td>\n      <td>115649.000000</td>\n      <td>115652.00000</td>\n      <td>118573.00000</td>\n      <td>5162700.0</td>\n      <td>118573.00000</td>\n      <td>-2921.000000</td>\n    </tr>\n    <tr>\n      <th>2020-01-03</th>\n      <td>118792.000000</td>\n      <td>117341.000000</td>\n      <td>118564.00000</td>\n      <td>117707.00000</td>\n      <td>6834500.0</td>\n      <td>117707.00000</td>\n      <td>-228.000000</td>\n    </tr>\n    <tr>\n      <th>2020-01-06</th>\n      <td>117707.000000</td>\n      <td>116269.000000</td>\n      <td>117707.00000</td>\n      <td>116878.00000</td>\n      <td>6570000.0</td>\n      <td>116878.00000</td>\n      <td>0.000000</td>\n    </tr>\n    <tr>\n      <th>2020-01-07</th>\n      <td>117076.000000</td>\n      <td>115965.000000</td>\n      <td>116872.00000</td>\n      <td>116662.00000</td>\n      <td>4854100.0</td>\n      <td>116662.00000</td>\n      <td>-204.000000</td>\n    </tr>\n    <tr>\n      <th>2020-01-08</th>\n      <td>117335.000000</td>\n      <td>115693.000000</td>\n      <td>116667.00000</td>\n      <td>116247.00000</td>\n      <td>5910500.0</td>\n      <td>116247.00000</td>\n      <td>-668.000000</td>\n    </tr>\n    <tr>\n      <th>...</th>\n      <td>...</td>\n      <td>...</td>\n      <td>...</td>\n      <td>...</td>\n      <td>...</td>\n      <td>...</td>\n      <td>...</td>\n    </tr>\n    <tr>\n      <th>2020-12-03</th>\n      <td>113377.000000</td>\n      <td>111874.000000</td>\n      <td>111874.00000</td>\n      <td>112919.00000</td>\n      <td>11474200.0</td>\n      <td>112919.00000</td>\n      <td>-1503.000000</td>\n    </tr>\n    <tr>\n      <th>2020-12-04</th>\n      <td>113864.000000</td>\n      <td>112294.000000</td>\n      <td>112294.00000</td>\n      <td>113682.00000</td>\n      <td>8892900.0</td>\n      <td>113682.00000</td>\n      <td>-1570.000000</td>\n    </tr>\n    <tr>\n      <th>2020-12-07</th>\n      <td>114531.000000</td>\n      <td>112629.000000</td>\n      <td>113751.00000</td>\n      <td>113625.00000</td>\n      <td>9633900.0</td>\n      <td>113625.00000</td>\n      <td>-780.000000</td>\n    </tr>\n    <tr>\n      <th>2020-12-08</th>\n      <td>114381.000000</td>\n      <td>112820.000000</td>\n      <td>113590.00000</td>\n      <td>113571.00000</td>\n      <td>8810900.0</td>\n      <td>113571.00000</td>\n      <td>-791.000000</td>\n    </tr>\n    <tr>\n      <th>2020-12-09</th>\n      <td>114020.398438</td>\n      <td>112566.726562</td>\n      <td>113798.53125</td>\n      <td>113001.15625</td>\n      <td>0.0</td>\n      <td>113001.15625</td>\n      <td>-221.867188</td>\n    </tr>\n  </tbody>\n</table>\n<p>234 rows × 7 columns</p>\n</div>"
     },
     "metadata": {},
     "execution_count": 15
    }
   ],
   "source": [
    "cotacoes_s2.analise.diferenca_cotacoes_mesmo_periodo('Open', 'High')"
   ]
  },
  {
   "cell_type": "code",
   "execution_count": 8,
   "metadata": {},
   "outputs": [
    {
     "output_type": "execute_result",
     "data": {
      "text/plain": [
       "                     High            Low          Open         Close  \\\n",
       "Date                                                                   \n",
       "2020-01-02  118573.000000  115649.000000  115652.00000  118573.00000   \n",
       "2020-01-03  118792.000000  117341.000000  118564.00000  117707.00000   \n",
       "2020-01-06  117707.000000  116269.000000  117707.00000  116878.00000   \n",
       "2020-01-07  117076.000000  115965.000000  116872.00000  116662.00000   \n",
       "2020-01-08  117335.000000  115693.000000  116667.00000  116247.00000   \n",
       "...                   ...            ...           ...           ...   \n",
       "2020-12-03  113377.000000  111874.000000  111874.00000  112919.00000   \n",
       "2020-12-04  113864.000000  112294.000000  112294.00000  113682.00000   \n",
       "2020-12-07  114531.000000  112629.000000  113751.00000  113625.00000   \n",
       "2020-12-08  114381.000000  112820.000000  113590.00000  113571.00000   \n",
       "2020-12-09  114020.398438  112566.726562  113798.53125  113001.15625   \n",
       "\n",
       "                Volume     Adj Close  Open - Close  \n",
       "Date                                                \n",
       "2020-01-02   5162700.0  118573.00000           NaN  \n",
       "2020-01-03   6834500.0  117707.00000       857.000  \n",
       "2020-01-06   6570000.0  116878.00000       829.000  \n",
       "2020-01-07   4854100.0  116662.00000       210.000  \n",
       "2020-01-08   5910500.0  116247.00000       420.000  \n",
       "...                ...           ...           ...  \n",
       "2020-12-03  11474200.0  112919.00000     -1045.000  \n",
       "2020-12-04   8892900.0  113682.00000     -1388.000  \n",
       "2020-12-07   9633900.0  113625.00000       126.000  \n",
       "2020-12-08   8810900.0  113571.00000        19.000  \n",
       "2020-12-09         0.0  113001.15625       797.375  \n",
       "\n",
       "[234 rows x 7 columns]"
      ],
      "text/html": "<div>\n<style scoped>\n    .dataframe tbody tr th:only-of-type {\n        vertical-align: middle;\n    }\n\n    .dataframe tbody tr th {\n        vertical-align: top;\n    }\n\n    .dataframe thead th {\n        text-align: right;\n    }\n</style>\n<table border=\"1\" class=\"dataframe\">\n  <thead>\n    <tr style=\"text-align: right;\">\n      <th></th>\n      <th>High</th>\n      <th>Low</th>\n      <th>Open</th>\n      <th>Close</th>\n      <th>Volume</th>\n      <th>Adj Close</th>\n      <th>Open - Close</th>\n    </tr>\n    <tr>\n      <th>Date</th>\n      <th></th>\n      <th></th>\n      <th></th>\n      <th></th>\n      <th></th>\n      <th></th>\n      <th></th>\n    </tr>\n  </thead>\n  <tbody>\n    <tr>\n      <th>2020-01-02</th>\n      <td>118573.000000</td>\n      <td>115649.000000</td>\n      <td>115652.00000</td>\n      <td>118573.00000</td>\n      <td>5162700.0</td>\n      <td>118573.00000</td>\n      <td>NaN</td>\n    </tr>\n    <tr>\n      <th>2020-01-03</th>\n      <td>118792.000000</td>\n      <td>117341.000000</td>\n      <td>118564.00000</td>\n      <td>117707.00000</td>\n      <td>6834500.0</td>\n      <td>117707.00000</td>\n      <td>857.000</td>\n    </tr>\n    <tr>\n      <th>2020-01-06</th>\n      <td>117707.000000</td>\n      <td>116269.000000</td>\n      <td>117707.00000</td>\n      <td>116878.00000</td>\n      <td>6570000.0</td>\n      <td>116878.00000</td>\n      <td>829.000</td>\n    </tr>\n    <tr>\n      <th>2020-01-07</th>\n      <td>117076.000000</td>\n      <td>115965.000000</td>\n      <td>116872.00000</td>\n      <td>116662.00000</td>\n      <td>4854100.0</td>\n      <td>116662.00000</td>\n      <td>210.000</td>\n    </tr>\n    <tr>\n      <th>2020-01-08</th>\n      <td>117335.000000</td>\n      <td>115693.000000</td>\n      <td>116667.00000</td>\n      <td>116247.00000</td>\n      <td>5910500.0</td>\n      <td>116247.00000</td>\n      <td>420.000</td>\n    </tr>\n    <tr>\n      <th>...</th>\n      <td>...</td>\n      <td>...</td>\n      <td>...</td>\n      <td>...</td>\n      <td>...</td>\n      <td>...</td>\n      <td>...</td>\n    </tr>\n    <tr>\n      <th>2020-12-03</th>\n      <td>113377.000000</td>\n      <td>111874.000000</td>\n      <td>111874.00000</td>\n      <td>112919.00000</td>\n      <td>11474200.0</td>\n      <td>112919.00000</td>\n      <td>-1045.000</td>\n    </tr>\n    <tr>\n      <th>2020-12-04</th>\n      <td>113864.000000</td>\n      <td>112294.000000</td>\n      <td>112294.00000</td>\n      <td>113682.00000</td>\n      <td>8892900.0</td>\n      <td>113682.00000</td>\n      <td>-1388.000</td>\n    </tr>\n    <tr>\n      <th>2020-12-07</th>\n      <td>114531.000000</td>\n      <td>112629.000000</td>\n      <td>113751.00000</td>\n      <td>113625.00000</td>\n      <td>9633900.0</td>\n      <td>113625.00000</td>\n      <td>126.000</td>\n    </tr>\n    <tr>\n      <th>2020-12-08</th>\n      <td>114381.000000</td>\n      <td>112820.000000</td>\n      <td>113590.00000</td>\n      <td>113571.00000</td>\n      <td>8810900.0</td>\n      <td>113571.00000</td>\n      <td>19.000</td>\n    </tr>\n    <tr>\n      <th>2020-12-09</th>\n      <td>114020.398438</td>\n      <td>112566.726562</td>\n      <td>113798.53125</td>\n      <td>113001.15625</td>\n      <td>0.0</td>\n      <td>113001.15625</td>\n      <td>797.375</td>\n    </tr>\n  </tbody>\n</table>\n<p>234 rows × 7 columns</p>\n</div>"
     },
     "metadata": {},
     "execution_count": 8
    }
   ],
   "source": [
    "cotacoes_s2.analise.diferenca_periodos_distintos('Open', 'Close')"
   ]
  }
 ]
}