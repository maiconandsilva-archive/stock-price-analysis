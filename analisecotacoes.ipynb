{
 "metadata": {
  "language_info": {
   "codemirror_mode": {
    "name": "ipython",
    "version": 3
   },
   "file_extension": ".py",
   "mimetype": "text/x-python",
   "name": "python",
   "nbconvert_exporter": "python",
   "pygments_lexer": "ipython3",
   "version": "3.8.2-final"
  },
  "orig_nbformat": 2,
  "kernelspec": {
   "name": "python3",
   "display_name": "Python 3"
  }
 },
 "nbformat": 4,
 "nbformat_minor": 2,
 "cells": [
  {
   "cell_type": "code",
   "execution_count": 1,
   "metadata": {},
   "outputs": [],
   "source": [
    "import datetime as dt\n",
    "import cotacoes as ct"
   ]
  },
  {
   "cell_type": "code",
   "execution_count": 2,
   "metadata": {},
   "outputs": [],
   "source": [
    "# Tickers são um código único que a bolsa\n",
    "# atribui aos instrumentos financeiros   \n",
    "TICKERS = [\n",
    "    # Ações de bolsas estadounidenses\n",
    "    \"TSLA\",\n",
    "    # Ações listadas no Brasil\n",
    "    \"EMBR3.SA\",\n",
    "    # Índices de bolsas mundiais\n",
    "    \"^BVSP\",\n",
    "]"
   ]
  },
  {
   "cell_type": "code",
   "execution_count": 3,
   "metadata": {},
   "outputs": [],
   "source": [
    "# Duração das séries a serem analisadas. Datas no formato ano, mes, dia\n",
    "SERIE_1_PERIODO = {\"inicio\": dt.date(2019, 1, 1), \"fim\": dt.date(2019, 12, 31)}\n",
    "SERIE_2_PERIODO = {\"inicio\": dt.date(2020, 1, 1), \"fim\": dt.date.today()}"
   ]
  },
  {
   "cell_type": "code",
   "execution_count": 4,
   "metadata": {},
   "outputs": [],
   "source": [
    "# Séries a serem analisadas (cotações de dois anos diferentes)\n",
    "SERIE_1 = ct.buscar_cotacoes(\"TSLA\", SERIE_1_PERIODO)\n",
    "SERIE_2 = ct.buscar_cotacoes(\"TSLA\", SERIE_2_PERIODO)"
   ]
  },
  {
   "cell_type": "code",
   "execution_count": 5,
   "metadata": {},
   "outputs": [
    {
     "output_type": "execute_result",
     "data": {
      "text/plain": [
       "                      Volume  Rel Volume   Cum Volume  Cum Rel Volume\n",
       "Close                                                                \n",
       "(35.398, 40.564]   701831500    6.081601    701831500        6.081601\n",
       "(40.564, 45.731]  1976441500   17.126517   2678273000       23.208118\n",
       "(45.731, 50.897]  2526019000   21.888787   5204292000       45.096905\n",
       "(50.897, 56.064]  1964828000   17.025882   7169120000       62.122787\n",
       "(56.064, 61.23]   1315678500   11.400788   8484798500       73.523575\n",
       "(61.23, 66.396]   1226129500   10.624816   9710928000       84.148391\n",
       "(66.396, 71.563]  1026627000    8.896061  10737555000       93.044453\n",
       "(71.563, 76.729]   243653000    2.111334  10981208000       95.155786\n",
       "(76.729, 81.896]   234904000    2.035521  11216112000       97.191307\n",
       "(81.896, 87.062]   324130000    2.808693  11540242000      100.000000"
      ],
      "text/html": "<div>\n<style scoped>\n    .dataframe tbody tr th:only-of-type {\n        vertical-align: middle;\n    }\n\n    .dataframe tbody tr th {\n        vertical-align: top;\n    }\n\n    .dataframe thead th {\n        text-align: right;\n    }\n</style>\n<table border=\"1\" class=\"dataframe\">\n  <thead>\n    <tr style=\"text-align: right;\">\n      <th></th>\n      <th>Volume</th>\n      <th>Rel Volume</th>\n      <th>Cum Volume</th>\n      <th>Cum Rel Volume</th>\n    </tr>\n    <tr>\n      <th>Close</th>\n      <th></th>\n      <th></th>\n      <th></th>\n      <th></th>\n    </tr>\n  </thead>\n  <tbody>\n    <tr>\n      <th>(35.398, 40.564]</th>\n      <td>701831500</td>\n      <td>6.081601</td>\n      <td>701831500</td>\n      <td>6.081601</td>\n    </tr>\n    <tr>\n      <th>(40.564, 45.731]</th>\n      <td>1976441500</td>\n      <td>17.126517</td>\n      <td>2678273000</td>\n      <td>23.208118</td>\n    </tr>\n    <tr>\n      <th>(45.731, 50.897]</th>\n      <td>2526019000</td>\n      <td>21.888787</td>\n      <td>5204292000</td>\n      <td>45.096905</td>\n    </tr>\n    <tr>\n      <th>(50.897, 56.064]</th>\n      <td>1964828000</td>\n      <td>17.025882</td>\n      <td>7169120000</td>\n      <td>62.122787</td>\n    </tr>\n    <tr>\n      <th>(56.064, 61.23]</th>\n      <td>1315678500</td>\n      <td>11.400788</td>\n      <td>8484798500</td>\n      <td>73.523575</td>\n    </tr>\n    <tr>\n      <th>(61.23, 66.396]</th>\n      <td>1226129500</td>\n      <td>10.624816</td>\n      <td>9710928000</td>\n      <td>84.148391</td>\n    </tr>\n    <tr>\n      <th>(66.396, 71.563]</th>\n      <td>1026627000</td>\n      <td>8.896061</td>\n      <td>10737555000</td>\n      <td>93.044453</td>\n    </tr>\n    <tr>\n      <th>(71.563, 76.729]</th>\n      <td>243653000</td>\n      <td>2.111334</td>\n      <td>10981208000</td>\n      <td>95.155786</td>\n    </tr>\n    <tr>\n      <th>(76.729, 81.896]</th>\n      <td>234904000</td>\n      <td>2.035521</td>\n      <td>11216112000</td>\n      <td>97.191307</td>\n    </tr>\n    <tr>\n      <th>(81.896, 87.062]</th>\n      <td>324130000</td>\n      <td>2.808693</td>\n      <td>11540242000</td>\n      <td>100.000000</td>\n    </tr>\n  </tbody>\n</table>\n</div>"
     },
     "metadata": {},
     "execution_count": 5
    }
   ],
   "source": [
    "cotacoes_s1 = ct.Cotacoes(SERIE_1)\n",
    "cotacoes_s1.tabela_classes"
   ]
  }
 ]
}