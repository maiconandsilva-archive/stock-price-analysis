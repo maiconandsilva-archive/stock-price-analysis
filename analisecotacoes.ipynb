{
 "metadata": {
  "language_info": {
   "codemirror_mode": {
    "name": "ipython",
    "version": 3
   },
   "file_extension": ".py",
   "mimetype": "text/x-python",
   "name": "python",
   "nbconvert_exporter": "python",
   "pygments_lexer": "ipython3",
   "version": "3.8.2-final"
  }, "
  "orig_nbformat": 2,
  "kernelspec": {
   "name": "python3",
   "display_name": "Python 3.8.2 64-bit ('.venv')",
   "metadata": {
    "interpreter": {
     "hash": "a929ff2be5896e011b273eba0235c9a02b8ca845e605fd831661f7182e7c90f4"
    }
   }
  }
 },
 "nbformat": 4,
 "nbformat_minor": 2,
 "cells": [
  {
   "cell_type": "code",
   "execution_count": 1,
   "metadata": {},
   "outputs": [],
   "source": [
    "import datetime as dt\n",
    "import pandas as pd\n",
    "\n",
    "import cotacoes as ct\n",
    "\n",
    "from fetchdata import buscar_cotacoes_yahoo"
   ]
  },
  {
   "cell_type": "code",
   "execution_count": 2,
   "metadata": {},
   "outputs": [],
   "source": [
    "pd.set_option('display.max_columns', 20)\n",
    "pd.set_option('display.max_rows', 100)"
   ]
  },
  {
   "cell_type": "code",
   "execution_count": 3,
   "metadata": {},
   "outputs": [],
   "source": [
    "# Tickers são um código único que a bolsa\n",
    "# atribui aos instrumentos financeiros\n",
    "TICKERS = [\n",
    "    # Ações de bolsas estadounidenses\n",
    "    \"TSLA\",\n",
    "    # Ações listadas no Brasil\n",
    "    \"EMBR3.SA\",\n",
    "    # Índices de bolsas mundiais\n",
    "    \"^BVSP\",\n",
    "]"
   ]
  },
  {
   "cell_type": "code",
   "execution_count": 4,
   "metadata": {},
   "outputs": [],
   "source": [
    "# Duração das séries a serem analisadas. Datas no formato ano, mes, dia\n",
    "SERIE_1_PERIODO = {\"inicio\": dt.date(2019, 1, 1), \"fim\": dt.date(2019, 12, 31)}\n",
    "SERIE_2_PERIODO = {\"inicio\": dt.date(2020, 1, 1), \"fim\": dt.date.today()}"
   ]
  },
  {
   "cell_type": "code",
   "execution_count": 5,
   "metadata": {},
   "outputs": [],
   "source": [
    "# Séries a serem analisadas (cotações de dois anos diferentes)\n",
    "SERIE_1 = buscar_cotacoes_yahoo(\"EMBR3.SA\", SERIE_1_PERIODO)\n",
    "SERIE_2 = buscar_cotacoes_yahoo(\"EMBR3.SA\", SERIE_2_PERIODO)"
   ]
  },
  {
   "source": [
    "### Tabela de classes\n",
    "\n",
    "O volume de negócios nos dias em que o fechamento da cotação ficou entre U\\$ 35.40 e U\\$ 40.56 foi de quase 702 milhões de negócios."
   ],
   "cell_type": "markdown",
   "metadata": {}
  },
  {
   "cell_type": "code",
   "execution_count": 6,
   "metadata": {},
   "outputs": [
    {
     "output_type": "execute_result",
     "data": {
      "text/plain": [
       "                       Volume  Rel Volume   Cum Volume  Cum Rel Volume\n",
       "Close                                                                 \n",
       "(17.005, 17.499]   41512400.0    5.956682   41512400.0        5.956682\n",
       "(17.499, 17.988]   80202200.0   11.508344  121714600.0       17.465025\n",
       "(17.988, 18.477]   96938200.0   13.909820  218652800.0       31.374845\n",
       "(18.477, 18.966]  119617500.0   17.164109  338270300.0       48.538954\n",
       "(18.966, 19.455]  174405500.0   25.025728  512675800.0       73.564682\n",
       "(19.455, 19.944]  107356700.0   15.404787  620032500.0       88.969469\n",
       "(19.944, 20.433]    3030800.0    0.434894  623063300.0       89.404363\n",
       "(20.433, 20.922]   16366600.0    2.348470  639429900.0       91.752833\n",
       "(20.922, 21.411]   11344900.0    1.627898  650774800.0       93.380731\n",
       "(21.411, 21.9]     46130000.0    6.619269  696904800.0      100.000000"
      ],
      "text/html": "<div>\n<style scoped>\n    .dataframe tbody tr th:only-of-type {\n        vertical-align: middle;\n    }\n\n    .dataframe tbody tr th {\n        vertical-align: top;\n    }\n\n    .dataframe thead th {\n        text-align: right;\n    }\n</style>\n<table border=\"1\" class=\"dataframe\">\n  <thead>\n    <tr style=\"text-align: right;\">\n      <th></th>\n      <th>Volume</th>\n      <th>Rel Volume</th>\n      <th>Cum Volume</th>\n      <th>Cum Rel Volume</th>\n    </tr>\n    <tr>\n      <th>Close</th>\n      <th></th>\n      <th></th>\n      <th></th>\n      <th></th>\n    </tr>\n  </thead>\n  <tbody>\n    <tr>\n      <th>(17.005, 17.499]</th>\n      <td>41512400.0</td>\n      <td>5.956682</td>\n      <td>41512400.0</td>\n      <td>5.956682</td>\n    </tr>\n    <tr>\n      <th>(17.499, 17.988]</th>\n      <td>80202200.0</td>\n      <td>11.508344</td>\n      <td>121714600.0</td>\n      <td>17.465025</td>\n    </tr>\n    <tr>\n      <th>(17.988, 18.477]</th>\n      <td>96938200.0</td>\n      <td>13.909820</td>\n      <td>218652800.0</td>\n      <td>31.374845</td>\n    </tr>\n    <tr>\n      <th>(18.477, 18.966]</th>\n      <td>119617500.0</td>\n      <td>17.164109</td>\n      <td>338270300.0</td>\n      <td>48.538954</td>\n    </tr>\n    <tr>\n      <th>(18.966, 19.455]</th>\n      <td>174405500.0</td>\n      <td>25.025728</td>\n      <td>512675800.0</td>\n      <td>73.564682</td>\n    </tr>\n    <tr>\n      <th>(19.455, 19.944]</th>\n      <td>107356700.0</td>\n      <td>15.404787</td>\n      <td>620032500.0</td>\n      <td>88.969469</td>\n    </tr>\n    <tr>\n      <th>(19.944, 20.433]</th>\n      <td>3030800.0</td>\n      <td>0.434894</td>\n      <td>623063300.0</td>\n      <td>89.404363</td>\n    </tr>\n    <tr>\n      <th>(20.433, 20.922]</th>\n      <td>16366600.0</td>\n      <td>2.348470</td>\n      <td>639429900.0</td>\n      <td>91.752833</td>\n    </tr>\n    <tr>\n      <th>(20.922, 21.411]</th>\n      <td>11344900.0</td>\n      <td>1.627898</td>\n      <td>650774800.0</td>\n      <td>93.380731</td>\n    </tr>\n    <tr>\n      <th>(21.411, 21.9]</th>\n      <td>46130000.0</td>\n      <td>6.619269</td>\n      <td>696904800.0</td>\n      <td>100.000000</td>\n    </tr>\n  </tbody>\n</table>\n</div>"
     },
     "metadata": {},
     "execution_count": 6
    }
   ],
   "source": [
    "cotacoes_s1 = ct.Cotacoes(SERIE_1)\n",
    "cotacoes_s1.tabela_classes"
   ]
  },
  {
   "cell_type": "code",
   "execution_count": 7,
   "metadata": {},
   "outputs": [
    {
     "output_type": "execute_result",
     "data": {
      "text/plain": [
       "                        Volume  Rel Volume    Cum Volume  Cum Rel Volume\n",
       "Close                                                                   \n",
       "(6.016, 7.477]    1.292331e+09   42.148234  1.292331e+09       42.148234\n",
       "(7.477, 8.924]    1.135060e+09   37.018994  2.427391e+09       79.167228\n",
       "(8.924, 10.371]   4.056405e+08   13.229611  2.833031e+09       92.396838\n",
       "(10.371, 11.818]  7.120190e+07    2.322188  2.904233e+09       94.719026\n",
       "(11.818, 13.265]  0.000000e+00    0.000000  2.904233e+09       94.719026\n",
       "(13.265, 14.712]  7.249900e+06    0.236449  2.911483e+09       94.955475\n",
       "(14.712, 16.159]  1.987460e+07    0.648193  2.931358e+09       95.603668\n",
       "(16.159, 17.606]  3.507570e+07    1.143963  2.966433e+09       96.747631\n",
       "(17.606, 19.053]  4.905190e+07    1.599785  3.015485e+09       98.347416\n",
       "(19.053, 20.5]    5.067080e+07    1.652584  3.066156e+09      100.000000"
      ],
      "text/html": "<div>\n<style scoped>\n    .dataframe tbody tr th:only-of-type {\n        vertical-align: middle;\n    }\n\n    .dataframe tbody tr th {\n        vertical-align: top;\n    }\n\n    .dataframe thead th {\n        text-align: right;\n    }\n</style>\n<table border=\"1\" class=\"dataframe\">\n  <thead>\n    <tr style=\"text-align: right;\">\n      <th></th>\n      <th>Volume</th>\n      <th>Rel Volume</th>\n      <th>Cum Volume</th>\n      <th>Cum Rel Volume</th>\n    </tr>\n    <tr>\n      <th>Close</th>\n      <th></th>\n      <th></th>\n      <th></th>\n      <th></th>\n    </tr>\n  </thead>\n  <tbody>\n    <tr>\n      <th>(6.016, 7.477]</th>\n      <td>1.292331e+09</td>\n      <td>42.148234</td>\n      <td>1.292331e+09</td>\n      <td>42.148234</td>\n    </tr>\n    <tr>\n      <th>(7.477, 8.924]</th>\n      <td>1.135060e+09</td>\n      <td>37.018994</td>\n      <td>2.427391e+09</td>\n      <td>79.167228</td>\n    </tr>\n    <tr>\n      <th>(8.924, 10.371]</th>\n      <td>4.056405e+08</td>\n      <td>13.229611</td>\n      <td>2.833031e+09</td>\n      <td>92.396838</td>\n    </tr>\n    <tr>\n      <th>(10.371, 11.818]</th>\n      <td>7.120190e+07</td>\n      <td>2.322188</td>\n      <td>2.904233e+09</td>\n      <td>94.719026</td>\n    </tr>\n    <tr>\n      <th>(11.818, 13.265]</th>\n      <td>0.000000e+00</td>\n      <td>0.000000</td>\n      <td>2.904233e+09</td>\n      <td>94.719026</td>\n    </tr>\n    <tr>\n      <th>(13.265, 14.712]</th>\n      <td>7.249900e+06</td>\n      <td>0.236449</td>\n      <td>2.911483e+09</td>\n      <td>94.955475</td>\n    </tr>\n    <tr>\n      <th>(14.712, 16.159]</th>\n      <td>1.987460e+07</td>\n      <td>0.648193</td>\n      <td>2.931358e+09</td>\n      <td>95.603668</td>\n    </tr>\n    <tr>\n      <th>(16.159, 17.606]</th>\n      <td>3.507570e+07</td>\n      <td>1.143963</td>\n      <td>2.966433e+09</td>\n      <td>96.747631</td>\n    </tr>\n    <tr>\n      <th>(17.606, 19.053]</th>\n      <td>4.905190e+07</td>\n      <td>1.599785</td>\n      <td>3.015485e+09</td>\n      <td>98.347416</td>\n    </tr>\n    <tr>\n      <th>(19.053, 20.5]</th>\n      <td>5.067080e+07</td>\n      <td>1.652584</td>\n      <td>3.066156e+09</td>\n      <td>100.000000</td>\n    </tr>\n  </tbody>\n</table>\n</div>"
     },
     "metadata": {},
     "execution_count": 7
    }
   ],
   "source": [
    "cotacoes_s2 = ct.Cotacoes(SERIE_2)\n",
    "cotacoes_s2.tabela_classes"
   ]
  },
  {
   "source": [
    "### Volume diminuindo"
   ],
   "cell_type": "markdown",
   "metadata": {}
  },
  {
   "cell_type": "code",
   "execution_count": 8,
   "metadata": {},
   "outputs": [
    {
     "output_type": "execute_result",
     "data": {
      "text/plain": [
       "                 High        Low       Open      Close     Volume  Adj Close\n",
       "Date                                                                        \n",
       "2019-01-02  21.950001  21.379999  21.670000  21.540001  3573800.0  21.540001\n",
       "2019-01-03  21.900000  21.180000  21.500000  21.900000  3162300.0  21.900000\n",
       "2019-01-04  21.809999  20.610001  21.750000  20.799999  5962700.0  20.799999\n",
       "2019-01-07  21.230000  20.549999  20.840000  21.230000  3144900.0  21.230000\n",
       "2019-01-08  21.480000  21.030001  21.320000  21.360001  2524800.0  21.360001\n",
       "...               ...        ...        ...        ...        ...        ...\n",
       "2019-12-20  19.660000  19.049999  19.299999  19.650000  4708600.0  19.650000\n",
       "2019-12-23  19.879999  19.410000  19.650000  19.730000  3216300.0  19.730000\n",
       "2019-12-26  19.820000  19.530001  19.730000  19.719999  1960600.0  19.719999\n",
       "2019-12-27  19.900000  19.620001  19.719999  19.719999  1608700.0  19.719999\n",
       "2019-12-30  19.920000  19.610001  19.719999  19.730000  1394800.0  19.730000\n",
       "\n",
       "[247 rows x 6 columns]"
      ],
      "text/html": "<div>\n<style scoped>\n    .dataframe tbody tr th:only-of-type {\n        vertical-align: middle;\n    }\n\n    .dataframe tbody tr th {\n        vertical-align: top;\n    }\n\n    .dataframe thead th {\n        text-align: right;\n    }\n</style>\n<table border=\"1\" class=\"dataframe\">\n  <thead>\n    <tr style=\"text-align: right;\">\n      <th></th>\n      <th>High</th>\n      <th>Low</th>\n      <th>Open</th>\n      <th>Close</th>\n      <th>Volume</th>\n      <th>Adj Close</th>\n    </tr>\n    <tr>\n      <th>Date</th>\n      <th></th>\n      <th></th>\n      <th></th>\n      <th></th>\n      <th></th>\n      <th></th>\n    </tr>\n  </thead>\n  <tbody>\n    <tr>\n      <th>2019-01-02</th>\n      <td>21.950001</td>\n      <td>21.379999</td>\n      <td>21.670000</td>\n      <td>21.540001</td>\n      <td>3573800.0</td>\n      <td>21.540001</td>\n    </tr>\n    <tr>\n      <th>2019-01-03</th>\n      <td>21.900000</td>\n      <td>21.180000</td>\n      <td>21.500000</td>\n      <td>21.900000</td>\n      <td>3162300.0</td>\n      <td>21.900000</td>\n    </tr>\n    <tr>\n      <th>2019-01-04</th>\n      <td>21.809999</td>\n      <td>20.610001</td>\n      <td>21.750000</td>\n      <td>20.799999</td>\n      <td>5962700.0</td>\n      <td>20.799999</td>\n    </tr>\n    <tr>\n      <th>2019-01-07</th>\n      <td>21.230000</td>\n      <td>20.549999</td>\n      <td>20.840000</td>\n      <td>21.230000</td>\n      <td>3144900.0</td>\n      <td>21.230000</td>\n    </tr>\n    <tr>\n      <th>2019-01-08</th>\n      <td>21.480000</td>\n      <td>21.030001</td>\n      <td>21.320000</td>\n      <td>21.360001</td>\n      <td>2524800.0</td>\n      <td>21.360001</td>\n    </tr>\n    <tr>\n      <th>...</th>\n      <td>...</td>\n      <td>...</td>\n      <td>...</td>\n      <td>...</td>\n      <td>...</td>\n      <td>...</td>\n    </tr>\n    <tr>\n      <th>2019-12-20</th>\n      <td>19.660000</td>\n      <td>19.049999</td>\n      <td>19.299999</td>\n      <td>19.650000</td>\n      <td>4708600.0</td>\n      <td>19.650000</td>\n    </tr>\n    <tr>\n      <th>2019-12-23</th>\n      <td>19.879999</td>\n      <td>19.410000</td>\n      <td>19.650000</td>\n      <td>19.730000</td>\n      <td>3216300.0</td>\n      <td>19.730000</td>\n    </tr>\n    <tr>\n      <th>2019-12-26</th>\n      <td>19.820000</td>\n      <td>19.530001</td>\n      <td>19.730000</td>\n      <td>19.719999</td>\n      <td>1960600.0</td>\n      <td>19.719999</td>\n    </tr>\n    <tr>\n      <th>2019-12-27</th>\n      <td>19.900000</td>\n      <td>19.620001</td>\n      <td>19.719999</td>\n      <td>19.719999</td>\n      <td>1608700.0</td>\n      <td>19.719999</td>\n    </tr>\n    <tr>\n      <th>2019-12-30</th>\n      <td>19.920000</td>\n      <td>19.610001</td>\n      <td>19.719999</td>\n      <td>19.730000</td>\n      <td>1394800.0</td>\n      <td>19.730000</td>\n    </tr>\n  </tbody>\n</table>\n<p>247 rows × 6 columns</p>\n</div>"
     },
     "metadata": {},
     "execution_count": 8
    }
   ],
   "source": [
    "SERIE_1"
   ]
  },
  {
   "cell_type": "code",
   "execution_count": 9,
   "metadata": {},
   "outputs": [
    {
     "output_type": "execute_result",
     "data": {
      "text/plain": [
       "Volume\n",
       "(1.0, 3.0]      169\n",
       "(3.0, 5.0]       40\n",
       "(5.0, 7.0]        4\n",
       "(7.0, 9.0]        2\n",
       "(9.0, 11.0]       1\n",
       "(11.0, 13.0]      1\n",
       "(13.0, 15.0]      0\n",
       "(15.0, 17.0]      0\n",
       "(17.0, 19.0]      1\n",
       "Name: Volume, dtype: int64"
      ]
     },
     "metadata": {},
     "execution_count": 9
    }
   ],
   "source": [
    "cotacoes_s1.tabela_classes_volume"
   ]
  },
  {
   "cell_type": "code",
   "execution_count": 10,
   "metadata": {},
   "outputs": [
    {
     "output_type": "execute_result",
     "data": {
      "text/plain": [
       "18529000.0"
      ]
     },
     "metadata": {},
     "execution_count": 10
    }
   ],
   "source": [
    "cotacoes_s1.serie['Volume'].max()"
   ]
  },
  {
   "cell_type": "code",
   "execution_count": 11,
   "metadata": {
    "tags": []
   },
   "outputs": [
    {
     "output_type": "execute_result",
     "data": {
      "text/plain": [
       "                Open\n",
       "Open                \n",
       "(17.02, 17.6]     22\n",
       "(17.6, 18.17]     38\n",
       "(18.17, 18.75]    41\n",
       "(18.75, 19.32]    73\n",
       "(19.32, 19.89]    59\n",
       "(19.89, 20.46]     1\n",
       "(20.46, 21.03]     2\n",
       "(21.03, 21.61]     5\n",
       "(21.61, 22.18]     5\n",
       "(22.18, 22.75]     1"
      ],
      "text/html": "<div>\n<style scoped>\n    .dataframe tbody tr th:only-of-type {\n        vertical-align: middle;\n    }\n\n    .dataframe tbody tr th {\n        vertical-align: top;\n    }\n\n    .dataframe thead th {\n        text-align: right;\n    }\n</style>\n<table border=\"1\" class=\"dataframe\">\n  <thead>\n    <tr style=\"text-align: right;\">\n      <th></th>\n      <th>Open</th>\n    </tr>\n    <tr>\n      <th>Open</th>\n      <th></th>\n    </tr>\n  </thead>\n  <tbody>\n    <tr>\n      <th>(17.02, 17.6]</th>\n      <td>22</td>\n    </tr>\n    <tr>\n      <th>(17.6, 18.17]</th>\n      <td>38</td>\n    </tr>\n    <tr>\n      <th>(18.17, 18.75]</th>\n      <td>41</td>\n    </tr>\n    <tr>\n      <th>(18.75, 19.32]</th>\n      <td>73</td>\n    </tr>\n    <tr>\n      <th>(19.32, 19.89]</th>\n      <td>59</td>\n    </tr>\n    <tr>\n      <th>(19.89, 20.46]</th>\n      <td>1</td>\n    </tr>\n    <tr>\n      <th>(20.46, 21.03]</th>\n      <td>2</td>\n    </tr>\n    <tr>\n      <th>(21.03, 21.61]</th>\n      <td>5</td>\n    </tr>\n    <tr>\n      <th>(21.61, 22.18]</th>\n      <td>5</td>\n    </tr>\n    <tr>\n      <th>(22.18, 22.75]</th>\n      <td>1</td>\n    </tr>\n  </tbody>\n</table>\n</div>"
     },
     "metadata": {},
     "execution_count": 11
    }
   ],
   "source": [
    "cotacoes_s1.tabela_classes_preco"
   ]
  },
  {
   "cell_type": "code",
   "execution_count": 12,
   "metadata": {},
   "outputs": [
    {
     "output_type": "execute_result",
     "data": {
      "text/plain": [
       "                Open\n",
       "Open                \n",
       "(5.9, 7.37]       68\n",
       "(7.37, 8.83]      80\n",
       "(8.83, 10.29]     32\n",
       "(10.29, 11.75]     5\n",
       "(11.75, 13.2]      1\n",
       "(13.2, 14.66]      1\n",
       "(14.66, 16.12]     3\n",
       "(16.12, 17.58]     5\n",
       "(17.58, 19.04]    20\n",
       "(19.04, 20.5]     18"
      ],
      "text/html": "<div>\n<style scoped>\n    .dataframe tbody tr th:only-of-type {\n        vertical-align: middle;\n    }\n\n    .dataframe tbody tr th {\n        vertical-align: top;\n    }\n\n    .dataframe thead th {\n        text-align: right;\n    }\n</style>\n<table border=\"1\" class=\"dataframe\">\n  <thead>\n    <tr style=\"text-align: right;\">\n      <th></th>\n      <th>Open</th>\n    </tr>\n    <tr>\n      <th>Open</th>\n      <th></th>\n    </tr>\n  </thead>\n  <tbody>\n    <tr>\n      <th>(5.9, 7.37]</th>\n      <td>68</td>\n    </tr>\n    <tr>\n      <th>(7.37, 8.83]</th>\n      <td>80</td>\n    </tr>\n    <tr>\n      <th>(8.83, 10.29]</th>\n      <td>32</td>\n    </tr>\n    <tr>\n      <th>(10.29, 11.75]</th>\n      <td>5</td>\n    </tr>\n    <tr>\n      <th>(11.75, 13.2]</th>\n      <td>1</td>\n    </tr>\n    <tr>\n      <th>(13.2, 14.66]</th>\n      <td>1</td>\n    </tr>\n    <tr>\n      <th>(14.66, 16.12]</th>\n      <td>3</td>\n    </tr>\n    <tr>\n      <th>(16.12, 17.58]</th>\n      <td>5</td>\n    </tr>\n    <tr>\n      <th>(17.58, 19.04]</th>\n      <td>20</td>\n    </tr>\n    <tr>\n      <th>(19.04, 20.5]</th>\n      <td>18</td>\n    </tr>\n  </tbody>\n</table>\n</div>"
     },
     "metadata": {},
     "execution_count": 12
    }
   ],
   "source": [
    "cotacoes_s2.tabela_classes_preco"
   ]
  },
  {
   "cell_type": "code",
   "execution_count": 13,
   "metadata": {},
   "outputs": [
    {
     "output_type": "execute_result",
     "data": {
      "text/plain": [
       "                 High        Low       Open      Close      Volume  Adj Close\n",
       "Date                                                                         \n",
       "2020-01-02  20.299999  19.950001  19.950001  20.200001   3271300.0  20.200001\n",
       "2020-01-03  20.469999  19.990000  20.100000  20.410000   3453700.0  20.410000\n",
       "2020-01-06  20.590000  20.139999  20.430000  20.379999   3352400.0  20.379999\n",
       "2020-01-07  20.570000  20.070000  20.420000  20.500000   3576300.0  20.500000\n",
       "2020-01-08  20.590000  20.290001  20.500000  20.330000   1834500.0  20.330000\n",
       "...               ...        ...        ...        ...         ...        ...\n",
       "2020-12-02   8.440000   8.070000   8.250000   8.420000  11727400.0   8.420000\n",
       "2020-12-03   9.700000   8.400000   8.430000   9.350000  58068300.0   9.350000\n",
       "2020-12-04   9.920000   9.100000   9.600000   9.250000  29827700.0   9.250000\n",
       "2020-12-07   9.570000   9.230000   9.390000   9.370000  18074300.0   9.370000\n",
       "2020-12-08   9.420000   9.080000   9.340000   9.140000  11812000.0   9.140000\n",
       "\n",
       "[233 rows x 6 columns]"
      ],
      "text/html": "<div>\n<style scoped>\n    .dataframe tbody tr th:only-of-type {\n        vertical-align: middle;\n    }\n\n    .dataframe tbody tr th {\n        vertical-align: top;\n    }\n\n    .dataframe thead th {\n        text-align: right;\n    }\n</style>\n<table border=\"1\" class=\"dataframe\">\n  <thead>\n    <tr style=\"text-align: right;\">\n      <th></th>\n      <th>High</th>\n      <th>Low</th>\n      <th>Open</th>\n      <th>Close</th>\n      <th>Volume</th>\n      <th>Adj Close</th>\n    </tr>\n    <tr>\n      <th>Date</th>\n      <th></th>\n      <th></th>\n      <th></th>\n      <th></th>\n      <th></th>\n      <th></th>\n    </tr>\n  </thead>\n  <tbody>\n    <tr>\n      <th>2020-01-02</th>\n      <td>20.299999</td>\n      <td>19.950001</td>\n      <td>19.950001</td>\n      <td>20.200001</td>\n      <td>3271300.0</td>\n      <td>20.200001</td>\n    </tr>\n    <tr>\n      <th>2020-01-03</th>\n      <td>20.469999</td>\n      <td>19.990000</td>\n      <td>20.100000</td>\n      <td>20.410000</td>\n      <td>3453700.0</td>\n      <td>20.410000</td>\n    </tr>\n    <tr>\n      <th>2020-01-06</th>\n      <td>20.590000</td>\n      <td>20.139999</td>\n      <td>20.430000</td>\n      <td>20.379999</td>\n      <td>3352400.0</td>\n      <td>20.379999</td>\n    </tr>\n    <tr>\n      <th>2020-01-07</th>\n      <td>20.570000</td>\n      <td>20.070000</td>\n      <td>20.420000</td>\n      <td>20.500000</td>\n      <td>3576300.0</td>\n      <td>20.500000</td>\n    </tr>\n    <tr>\n      <th>2020-01-08</th>\n      <td>20.590000</td>\n      <td>20.290001</td>\n      <td>20.500000</td>\n      <td>20.330000</td>\n      <td>1834500.0</td>\n      <td>20.330000</td>\n    </tr>\n    <tr>\n      <th>...</th>\n      <td>...</td>\n      <td>...</td>\n      <td>...</td>\n      <td>...</td>\n      <td>...</td>\n      <td>...</td>\n    </tr>\n    <tr>\n      <th>2020-12-02</th>\n      <td>8.440000</td>\n      <td>8.070000</td>\n      <td>8.250000</td>\n      <td>8.420000</td>\n      <td>11727400.0</td>\n      <td>8.420000</td>\n    </tr>\n    <tr>\n      <th>2020-12-03</th>\n      <td>9.700000</td>\n      <td>8.400000</td>\n      <td>8.430000</td>\n      <td>9.350000</td>\n      <td>58068300.0</td>\n      <td>9.350000</td>\n    </tr>\n    <tr>\n      <th>2020-12-04</th>\n      <td>9.920000</td>\n      <td>9.100000</td>\n      <td>9.600000</td>\n      <td>9.250000</td>\n      <td>29827700.0</td>\n      <td>9.250000</td>\n    </tr>\n    <tr>\n      <th>2020-12-07</th>\n      <td>9.570000</td>\n      <td>9.230000</td>\n      <td>9.390000</td>\n      <td>9.370000</td>\n      <td>18074300.0</td>\n      <td>9.370000</td>\n    </tr>\n    <tr>\n      <th>2020-12-08</th>\n      <td>9.420000</td>\n      <td>9.080000</td>\n      <td>9.340000</td>\n      <td>9.140000</td>\n      <td>11812000.0</td>\n      <td>9.140000</td>\n    </tr>\n  </tbody>\n</table>\n<p>233 rows × 6 columns</p>\n</div>"
     },
     "metadata": {},
     "execution_count": 13
    }
   ],
   "source": [
    "cotacoes_s2.serie"
   ]
  }
 ]
}