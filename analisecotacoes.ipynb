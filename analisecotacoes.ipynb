{
 "metadata": {
  "language_info": {
   "codemirror_mode": {
    "name": "ipython",
    "version": 3
   },
   "file_extension": ".py",
   "mimetype": "text/x-python",
   "name": "python",
   "nbconvert_exporter": "python",
   "pygments_lexer": "ipython3",
   "version": "3.8.2-final"
  },
  "orig_nbformat": 2,
  "kernelspec": {
   "name": "python3",
   "display_name": "Python 3.8.2 64-bit ('.venv')",
   "metadata": {
    "interpreter": {
     "hash": "a929ff2be5896e011b273eba0235c9a02b8ca845e605fd831661f7182e7c90f4"
    }
   }
  }
 },
 "nbformat": 4,
 "nbformat_minor": 2,
 "cells": [
  {
   "cell_type": "code",
   "execution_count": 1,
   "metadata": {},
   "outputs": [],
   "source": [
    "import datetime as dt\n",
    "import pandas as pd\n",
    "\n",
    "import cotacoes as ct\n",
    "\n",
    "from fetchdata import buscar_cotacoes_yahoo"
   ]
  },
  {
   "cell_type": "code",
   "execution_count": 2,
   "metadata": {},
   "outputs": [],
   "source": [
    "pd.set_option('display.max_columns', 20)\n",
    "pd.set_option('display.max_rows', 50)\n",
    "pd.set_option('display.width', 1000)"
   ]
  },
  {
   "cell_type": "code",
   "execution_count": 3,
   "metadata": {},
   "outputs": [],
   "source": [
    "# Tickers são um código único que a bolsa\n",
    "# atribui aos instrumentos financeiros\n",
    "TICKERS = [\n",
    "    # Ações de bolsas estadounidenses\n",
    "    \"TSLA\",\n",
    "    # Ações listadas no Brasil\n",
    "    \"EMBR3.SA\",\n",
    "    # Índices de bolsas mundiais\n",
    "    \"^BVSP\",\n",
    "]"
   ]
  },
  {
   "cell_type": "code",
   "execution_count": 4,
   "metadata": {},
   "outputs": [],
   "source": [
    "# Duração das séries a serem analisadas. Datas no formato ano, mes, dia\n",
    "SERIE_1_PERIODO = {\"inicio\": dt.date(2019, 1, 1), \"fim\": dt.date(2019, 12, 31)}\n",
    "SERIE_2_PERIODO = {\"inicio\": dt.date(2020, 1, 1), \"fim\": dt.date.today()}"
   ]
  },
  {
   "cell_type": "code",
   "execution_count": 5,
   "metadata": {},
   "outputs": [],
   "source": [
    "# Séries a serem analisadas (cotações de dois anos diferentes)\n",
    "cotacoes_s1 = buscar_cotacoes_yahoo(\"^BVSP\", SERIE_1_PERIODO)\n",
    "cotacoes_s2 = buscar_cotacoes_yahoo(\"^BVSP\", SERIE_2_PERIODO)\n",
    "\n",
    "# Número de classes padrão para as tabelas\n",
    "nclasses_padrao = cotacoes_s1.analise.nclasses"
   ]
  },
  {
   "source": [
    "### Tabela de classes\n",
    "\n",
    "O volume de negócios nos dias em que o fechamento da cotação ficou entre U\\$ 35.40 e U\\$ 40.56 foi de quase 702 milhões de negócios."
   ],
   "cell_type": "markdown",
   "metadata": {}
  },
  {
   "cell_type": "code",
   "execution_count": 6,
   "metadata": {},
   "outputs": [
    {
     "output_type": "execute_result",
     "data": {
      "text/plain": [
       "                High       Low      Open     Close     Volume  Adj Close\n",
       "Date                                                                    \n",
       "2019-01-02   91479.0   87536.0   87887.0   91012.0  5615400.0    91012.0\n",
       "2019-01-03   91596.0   89922.0   91011.0   91564.0  6066200.0    91564.0\n",
       "2019-01-04   92701.0   90824.0   91577.0   91841.0  5322100.0    91841.0\n",
       "2019-01-07   92552.0   91288.0   91845.0   91699.0  4565000.0    91699.0\n",
       "2019-01-08   92231.0   91064.0   91699.0   92032.0  4496500.0    92032.0\n",
       "...              ...       ...       ...       ...        ...        ...\n",
       "2019-12-20  115171.0  114526.0  115133.0  115121.0  6887400.0   115121.0\n",
       "2019-12-23  115863.0  114964.0  115119.0  115863.0  3995200.0   115863.0\n",
       "2019-12-26  117220.0  115673.0  115864.0  117203.0  3788900.0   117203.0\n",
       "2019-12-27  117803.0  115995.0  117205.0  116534.0  3905900.0   116534.0\n",
       "2019-12-30  117086.0  115790.0  116530.0  115964.0  3667900.0   115964.0\n",
       "\n",
       "[247 rows x 6 columns]"
      ],
      "text/html": "<div>\n<style scoped>\n    .dataframe tbody tr th:only-of-type {\n        vertical-align: middle;\n    }\n\n    .dataframe tbody tr th {\n        vertical-align: top;\n    }\n\n    .dataframe thead th {\n        text-align: right;\n    }\n</style>\n<table border=\"1\" class=\"dataframe\">\n  <thead>\n    <tr style=\"text-align: right;\">\n      <th></th>\n      <th>High</th>\n      <th>Low</th>\n      <th>Open</th>\n      <th>Close</th>\n      <th>Volume</th>\n      <th>Adj Close</th>\n    </tr>\n    <tr>\n      <th>Date</th>\n      <th></th>\n      <th></th>\n      <th></th>\n      <th></th>\n      <th></th>\n      <th></th>\n    </tr>\n  </thead>\n  <tbody>\n    <tr>\n      <th>2019-01-02</th>\n      <td>91479.0</td>\n      <td>87536.0</td>\n      <td>87887.0</td>\n      <td>91012.0</td>\n      <td>5615400.0</td>\n      <td>91012.0</td>\n    </tr>\n    <tr>\n      <th>2019-01-03</th>\n      <td>91596.0</td>\n      <td>89922.0</td>\n      <td>91011.0</td>\n      <td>91564.0</td>\n      <td>6066200.0</td>\n      <td>91564.0</td>\n    </tr>\n    <tr>\n      <th>2019-01-04</th>\n      <td>92701.0</td>\n      <td>90824.0</td>\n      <td>91577.0</td>\n      <td>91841.0</td>\n      <td>5322100.0</td>\n      <td>91841.0</td>\n    </tr>\n    <tr>\n      <th>2019-01-07</th>\n      <td>92552.0</td>\n      <td>91288.0</td>\n      <td>91845.0</td>\n      <td>91699.0</td>\n      <td>4565000.0</td>\n      <td>91699.0</td>\n    </tr>\n    <tr>\n      <th>2019-01-08</th>\n      <td>92231.0</td>\n      <td>91064.0</td>\n      <td>91699.0</td>\n      <td>92032.0</td>\n      <td>4496500.0</td>\n      <td>92032.0</td>\n    </tr>\n    <tr>\n      <th>...</th>\n      <td>...</td>\n      <td>...</td>\n      <td>...</td>\n      <td>...</td>\n      <td>...</td>\n      <td>...</td>\n    </tr>\n    <tr>\n      <th>2019-12-20</th>\n      <td>115171.0</td>\n      <td>114526.0</td>\n      <td>115133.0</td>\n      <td>115121.0</td>\n      <td>6887400.0</td>\n      <td>115121.0</td>\n    </tr>\n    <tr>\n      <th>2019-12-23</th>\n      <td>115863.0</td>\n      <td>114964.0</td>\n      <td>115119.0</td>\n      <td>115863.0</td>\n      <td>3995200.0</td>\n      <td>115863.0</td>\n    </tr>\n    <tr>\n      <th>2019-12-26</th>\n      <td>117220.0</td>\n      <td>115673.0</td>\n      <td>115864.0</td>\n      <td>117203.0</td>\n      <td>3788900.0</td>\n      <td>117203.0</td>\n    </tr>\n    <tr>\n      <th>2019-12-27</th>\n      <td>117803.0</td>\n      <td>115995.0</td>\n      <td>117205.0</td>\n      <td>116534.0</td>\n      <td>3905900.0</td>\n      <td>116534.0</td>\n    </tr>\n    <tr>\n      <th>2019-12-30</th>\n      <td>117086.0</td>\n      <td>115790.0</td>\n      <td>116530.0</td>\n      <td>115964.0</td>\n      <td>3667900.0</td>\n      <td>115964.0</td>\n    </tr>\n  </tbody>\n</table>\n<p>247 rows × 6 columns</p>\n</div>"
     },
     "metadata": {},
     "execution_count": 6
    }
   ],
   "source": [
    "cotacoes_s1"
   ]
  },
  {
   "cell_type": "code",
   "execution_count": 7,
   "metadata": {},
   "outputs": [
    {
     "output_type": "execute_result",
     "data": {
      "text/plain": [
       "                               Volume\n",
       "Close                                \n",
       "(63514.042, 67300.533]     43866100.0\n",
       "(67300.533, 71031.067]     48329400.0\n",
       "(71031.067, 74761.6]       90503100.0\n",
       "(74761.6, 78492.133]      131307200.0\n",
       "(78492.133, 82222.667]    201755300.0\n",
       "(82222.667, 85953.2]       71463300.0\n",
       "(85953.2, 89683.733]       62374800.0\n",
       "(89683.733, 93414.267]     66600000.0\n",
       "(93414.267, 97144.8]      340000800.0\n",
       "(97144.8, 100875.333]     352023200.0\n",
       "(100875.333, 104605.867]  385420500.0\n",
       "(104605.867, 108336.4]    112764000.0\n",
       "(108336.4, 112066.933]     75895700.0\n",
       "(112066.933, 115797.467]  156342600.0\n",
       "(115797.467, 119528.0]    115213800.0"
      ],
      "text/html": "<div>\n<style scoped>\n    .dataframe tbody tr th:only-of-type {\n        vertical-align: middle;\n    }\n\n    .dataframe tbody tr th {\n        vertical-align: top;\n    }\n\n    .dataframe thead th {\n        text-align: right;\n    }\n</style>\n<table border=\"1\" class=\"dataframe\">\n  <thead>\n    <tr style=\"text-align: right;\">\n      <th></th>\n      <th>Volume</th>\n    </tr>\n    <tr>\n      <th>Close</th>\n      <th></th>\n    </tr>\n  </thead>\n  <tbody>\n    <tr>\n      <th>(63514.042, 67300.533]</th>\n      <td>43866100.0</td>\n    </tr>\n    <tr>\n      <th>(67300.533, 71031.067]</th>\n      <td>48329400.0</td>\n    </tr>\n    <tr>\n      <th>(71031.067, 74761.6]</th>\n      <td>90503100.0</td>\n    </tr>\n    <tr>\n      <th>(74761.6, 78492.133]</th>\n      <td>131307200.0</td>\n    </tr>\n    <tr>\n      <th>(78492.133, 82222.667]</th>\n      <td>201755300.0</td>\n    </tr>\n    <tr>\n      <th>(82222.667, 85953.2]</th>\n      <td>71463300.0</td>\n    </tr>\n    <tr>\n      <th>(85953.2, 89683.733]</th>\n      <td>62374800.0</td>\n    </tr>\n    <tr>\n      <th>(89683.733, 93414.267]</th>\n      <td>66600000.0</td>\n    </tr>\n    <tr>\n      <th>(93414.267, 97144.8]</th>\n      <td>340000800.0</td>\n    </tr>\n    <tr>\n      <th>(97144.8, 100875.333]</th>\n      <td>352023200.0</td>\n    </tr>\n    <tr>\n      <th>(100875.333, 104605.867]</th>\n      <td>385420500.0</td>\n    </tr>\n    <tr>\n      <th>(104605.867, 108336.4]</th>\n      <td>112764000.0</td>\n    </tr>\n    <tr>\n      <th>(108336.4, 112066.933]</th>\n      <td>75895700.0</td>\n    </tr>\n    <tr>\n      <th>(112066.933, 115797.467]</th>\n      <td>156342600.0</td>\n    </tr>\n    <tr>\n      <th>(115797.467, 119528.0]</th>\n      <td>115213800.0</td>\n    </tr>\n  </tbody>\n</table>\n</div>"
     },
     "metadata": {},
     "execution_count": 7
    }
   ],
   "source": [
    "cotacoes_s2.analise.tabela_classes()"
   ]
  },
  {
   "source": [
    "### Volume diminuindo"
   ],
   "cell_type": "markdown",
   "metadata": {}
  },
  {
   "cell_type": "code",
   "execution_count": 8,
   "metadata": {},
   "outputs": [
    {
     "output_type": "execute_result",
     "data": {
      "text/plain": [
       "                High       Low      Open     Close     Volume  Adj Close\n",
       "Date                                                                    \n",
       "2019-01-02   91479.0   87536.0   87887.0   91012.0  5615400.0    91012.0\n",
       "2019-01-03   91596.0   89922.0   91011.0   91564.0  6066200.0    91564.0\n",
       "2019-01-04   92701.0   90824.0   91577.0   91841.0  5322100.0    91841.0\n",
       "2019-01-07   92552.0   91288.0   91845.0   91699.0  4565000.0    91699.0\n",
       "2019-01-08   92231.0   91064.0   91699.0   92032.0  4496500.0    92032.0\n",
       "...              ...       ...       ...       ...        ...        ...\n",
       "2019-12-20  115171.0  114526.0  115133.0  115121.0  6887400.0   115121.0\n",
       "2019-12-23  115863.0  114964.0  115119.0  115863.0  3995200.0   115863.0\n",
       "2019-12-26  117220.0  115673.0  115864.0  117203.0  3788900.0   117203.0\n",
       "2019-12-27  117803.0  115995.0  117205.0  116534.0  3905900.0   116534.0\n",
       "2019-12-30  117086.0  115790.0  116530.0  115964.0  3667900.0   115964.0\n",
       "\n",
       "[247 rows x 6 columns]"
      ],
      "text/html": "<div>\n<style scoped>\n    .dataframe tbody tr th:only-of-type {\n        vertical-align: middle;\n    }\n\n    .dataframe tbody tr th {\n        vertical-align: top;\n    }\n\n    .dataframe thead th {\n        text-align: right;\n    }\n</style>\n<table border=\"1\" class=\"dataframe\">\n  <thead>\n    <tr style=\"text-align: right;\">\n      <th></th>\n      <th>High</th>\n      <th>Low</th>\n      <th>Open</th>\n      <th>Close</th>\n      <th>Volume</th>\n      <th>Adj Close</th>\n    </tr>\n    <tr>\n      <th>Date</th>\n      <th></th>\n      <th></th>\n      <th></th>\n      <th></th>\n      <th></th>\n      <th></th>\n    </tr>\n  </thead>\n  <tbody>\n    <tr>\n      <th>2019-01-02</th>\n      <td>91479.0</td>\n      <td>87536.0</td>\n      <td>87887.0</td>\n      <td>91012.0</td>\n      <td>5615400.0</td>\n      <td>91012.0</td>\n    </tr>\n    <tr>\n      <th>2019-01-03</th>\n      <td>91596.0</td>\n      <td>89922.0</td>\n      <td>91011.0</td>\n      <td>91564.0</td>\n      <td>6066200.0</td>\n      <td>91564.0</td>\n    </tr>\n    <tr>\n      <th>2019-01-04</th>\n      <td>92701.0</td>\n      <td>90824.0</td>\n      <td>91577.0</td>\n      <td>91841.0</td>\n      <td>5322100.0</td>\n      <td>91841.0</td>\n    </tr>\n    <tr>\n      <th>2019-01-07</th>\n      <td>92552.0</td>\n      <td>91288.0</td>\n      <td>91845.0</td>\n      <td>91699.0</td>\n      <td>4565000.0</td>\n      <td>91699.0</td>\n    </tr>\n    <tr>\n      <th>2019-01-08</th>\n      <td>92231.0</td>\n      <td>91064.0</td>\n      <td>91699.0</td>\n      <td>92032.0</td>\n      <td>4496500.0</td>\n      <td>92032.0</td>\n    </tr>\n    <tr>\n      <th>...</th>\n      <td>...</td>\n      <td>...</td>\n      <td>...</td>\n      <td>...</td>\n      <td>...</td>\n      <td>...</td>\n    </tr>\n    <tr>\n      <th>2019-12-20</th>\n      <td>115171.0</td>\n      <td>114526.0</td>\n      <td>115133.0</td>\n      <td>115121.0</td>\n      <td>6887400.0</td>\n      <td>115121.0</td>\n    </tr>\n    <tr>\n      <th>2019-12-23</th>\n      <td>115863.0</td>\n      <td>114964.0</td>\n      <td>115119.0</td>\n      <td>115863.0</td>\n      <td>3995200.0</td>\n      <td>115863.0</td>\n    </tr>\n    <tr>\n      <th>2019-12-26</th>\n      <td>117220.0</td>\n      <td>115673.0</td>\n      <td>115864.0</td>\n      <td>117203.0</td>\n      <td>3788900.0</td>\n      <td>117203.0</td>\n    </tr>\n    <tr>\n      <th>2019-12-27</th>\n      <td>117803.0</td>\n      <td>115995.0</td>\n      <td>117205.0</td>\n      <td>116534.0</td>\n      <td>3905900.0</td>\n      <td>116534.0</td>\n    </tr>\n    <tr>\n      <th>2019-12-30</th>\n      <td>117086.0</td>\n      <td>115790.0</td>\n      <td>116530.0</td>\n      <td>115964.0</td>\n      <td>3667900.0</td>\n      <td>115964.0</td>\n    </tr>\n  </tbody>\n</table>\n<p>247 rows × 6 columns</p>\n</div>"
     },
     "metadata": {},
     "execution_count": 8
    }
   ],
   "source": [
    "cotacoes_s1"
   ]
  },
  {
   "cell_type": "code",
   "execution_count": 9,
   "metadata": {},
   "outputs": [
    {
     "output_type": "execute_result",
     "data": {
      "text/plain": [
       "                Volume Hund Thous\n",
       "Volume                           \n",
       "(-0.092, 18.4]                  3\n",
       "(18.4, 36.8]                   22\n",
       "(36.8, 55.2]                  181\n",
       "(55.2, 73.6]                   38\n",
       "(73.6, 92.0]                    3"
      ],
      "text/html": "<div>\n<style scoped>\n    .dataframe tbody tr th:only-of-type {\n        vertical-align: middle;\n    }\n\n    .dataframe tbody tr th {\n        vertical-align: top;\n    }\n\n    .dataframe thead th {\n        text-align: right;\n    }\n</style>\n<table border=\"1\" class=\"dataframe\">\n  <thead>\n    <tr style=\"text-align: right;\">\n      <th></th>\n      <th>Volume Hund Thous</th>\n    </tr>\n    <tr>\n      <th>Volume</th>\n      <th></th>\n    </tr>\n  </thead>\n  <tbody>\n    <tr>\n      <th>(-0.092, 18.4]</th>\n      <td>3</td>\n    </tr>\n    <tr>\n      <th>(18.4, 36.8]</th>\n      <td>22</td>\n    </tr>\n    <tr>\n      <th>(36.8, 55.2]</th>\n      <td>181</td>\n    </tr>\n    <tr>\n      <th>(55.2, 73.6]</th>\n      <td>38</td>\n    </tr>\n    <tr>\n      <th>(73.6, 92.0]</th>\n      <td>3</td>\n    </tr>\n  </tbody>\n</table>\n</div>"
     },
     "metadata": {},
     "execution_count": 9
    }
   ],
   "source": [
    "cotacoes_s1.analise.nclasses = 5\n",
    "cotacoes_s1.analise.agrupamento_volume()"
   ]
  },
  {
   "cell_type": "code",
   "execution_count": 10,
   "metadata": {},
   "outputs": [
    {
     "output_type": "execute_result",
     "data": {
      "text/plain": [
       "1162353500.0"
      ]
     },
     "metadata": {},
     "execution_count": 10
    }
   ],
   "source": [
    "cotacoes_s1.analise.nclasses = nclasses_padrao\n",
    "cotacoes_s1.analise.volumetotal"
   ]
  },
  {
   "cell_type": "code",
   "execution_count": 11,
   "metadata": {
    "tags": []
   },
   "outputs": [
    {
     "output_type": "execute_result",
     "data": {
      "text/plain": [
       "                        Open\n",
       "Open                        \n",
       "(87857.68, 89719.38]       1\n",
       "(89719.38, 91551.75]       3\n",
       "(91551.75, 93384.12]      12\n",
       "(93384.12, 95216.5]       30\n",
       "(95216.5, 97048.88]       37\n",
       "(97048.88, 98881.25]      30\n",
       "(98881.25, 100713.62]     22\n",
       "(100713.62, 102546.0]     19\n",
       "(102546.0, 104378.38]     30\n",
       "(104378.38, 106210.75]    19\n",
       "(106210.75, 108043.12]    14\n",
       "(108043.12, 109875.5]     14\n",
       "(109875.5, 111707.88]      6\n",
       "(111707.88, 113540.25]     4\n",
       "(113540.25, 115372.62]     3\n",
       "(115372.62, 117205.0]      3"
      ],
      "text/html": "<div>\n<style scoped>\n    .dataframe tbody tr th:only-of-type {\n        vertical-align: middle;\n    }\n\n    .dataframe tbody tr th {\n        vertical-align: top;\n    }\n\n    .dataframe thead th {\n        text-align: right;\n    }\n</style>\n<table border=\"1\" class=\"dataframe\">\n  <thead>\n    <tr style=\"text-align: right;\">\n      <th></th>\n      <th>Open</th>\n    </tr>\n    <tr>\n      <th>Open</th>\n      <th></th>\n    </tr>\n  </thead>\n  <tbody>\n    <tr>\n      <th>(87857.68, 89719.38]</th>\n      <td>1</td>\n    </tr>\n    <tr>\n      <th>(89719.38, 91551.75]</th>\n      <td>3</td>\n    </tr>\n    <tr>\n      <th>(91551.75, 93384.12]</th>\n      <td>12</td>\n    </tr>\n    <tr>\n      <th>(93384.12, 95216.5]</th>\n      <td>30</td>\n    </tr>\n    <tr>\n      <th>(95216.5, 97048.88]</th>\n      <td>37</td>\n    </tr>\n    <tr>\n      <th>(97048.88, 98881.25]</th>\n      <td>30</td>\n    </tr>\n    <tr>\n      <th>(98881.25, 100713.62]</th>\n      <td>22</td>\n    </tr>\n    <tr>\n      <th>(100713.62, 102546.0]</th>\n      <td>19</td>\n    </tr>\n    <tr>\n      <th>(102546.0, 104378.38]</th>\n      <td>30</td>\n    </tr>\n    <tr>\n      <th>(104378.38, 106210.75]</th>\n      <td>19</td>\n    </tr>\n    <tr>\n      <th>(106210.75, 108043.12]</th>\n      <td>14</td>\n    </tr>\n    <tr>\n      <th>(108043.12, 109875.5]</th>\n      <td>14</td>\n    </tr>\n    <tr>\n      <th>(109875.5, 111707.88]</th>\n      <td>6</td>\n    </tr>\n    <tr>\n      <th>(111707.88, 113540.25]</th>\n      <td>4</td>\n    </tr>\n    <tr>\n      <th>(113540.25, 115372.62]</th>\n      <td>3</td>\n    </tr>\n    <tr>\n      <th>(115372.62, 117205.0]</th>\n      <td>3</td>\n    </tr>\n  </tbody>\n</table>\n</div>"
     },
     "metadata": {},
     "execution_count": 11
    }
   ],
   "source": [
    "cotacoes_s1.analise.tabela_classes_cotacoes('Open')"
   ]
  },
  {
   "cell_type": "code",
   "execution_count": 12,
   "metadata": {},
   "outputs": [
    {
     "output_type": "execute_result",
     "data": {
      "text/plain": [
       "                        Open\n",
       "Open                        \n",
       "(63548.08, 67332.27]       3\n",
       "(67332.27, 71060.53]       4\n",
       "(71060.53, 74788.8]        8\n",
       "(74788.8, 78517.07]       11\n",
       "(78517.07, 82245.33]      20\n",
       "(82245.33, 85973.6]        6\n",
       "(85973.6, 89701.87]        5\n",
       "(89701.87, 93430.13]       5\n",
       "(93430.13, 97158.4]       34\n",
       "(97158.4, 100886.67]      38\n",
       "(100886.67, 104614.93]    38\n",
       "(104614.93, 108343.2]     14\n",
       "(108343.2, 112071.47]      7\n",
       "(112071.47, 115799.73]    22\n",
       "(115799.73, 119528.0]     20"
      ],
      "text/html": "<div>\n<style scoped>\n    .dataframe tbody tr th:only-of-type {\n        vertical-align: middle;\n    }\n\n    .dataframe tbody tr th {\n        vertical-align: top;\n    }\n\n    .dataframe thead th {\n        text-align: right;\n    }\n</style>\n<table border=\"1\" class=\"dataframe\">\n  <thead>\n    <tr style=\"text-align: right;\">\n      <th></th>\n      <th>Open</th>\n    </tr>\n    <tr>\n      <th>Open</th>\n      <th></th>\n    </tr>\n  </thead>\n  <tbody>\n    <tr>\n      <th>(63548.08, 67332.27]</th>\n      <td>3</td>\n    </tr>\n    <tr>\n      <th>(67332.27, 71060.53]</th>\n      <td>4</td>\n    </tr>\n    <tr>\n      <th>(71060.53, 74788.8]</th>\n      <td>8</td>\n    </tr>\n    <tr>\n      <th>(74788.8, 78517.07]</th>\n      <td>11</td>\n    </tr>\n    <tr>\n      <th>(78517.07, 82245.33]</th>\n      <td>20</td>\n    </tr>\n    <tr>\n      <th>(82245.33, 85973.6]</th>\n      <td>6</td>\n    </tr>\n    <tr>\n      <th>(85973.6, 89701.87]</th>\n      <td>5</td>\n    </tr>\n    <tr>\n      <th>(89701.87, 93430.13]</th>\n      <td>5</td>\n    </tr>\n    <tr>\n      <th>(93430.13, 97158.4]</th>\n      <td>34</td>\n    </tr>\n    <tr>\n      <th>(97158.4, 100886.67]</th>\n      <td>38</td>\n    </tr>\n    <tr>\n      <th>(100886.67, 104614.93]</th>\n      <td>38</td>\n    </tr>\n    <tr>\n      <th>(104614.93, 108343.2]</th>\n      <td>14</td>\n    </tr>\n    <tr>\n      <th>(108343.2, 112071.47]</th>\n      <td>7</td>\n    </tr>\n    <tr>\n      <th>(112071.47, 115799.73]</th>\n      <td>22</td>\n    </tr>\n    <tr>\n      <th>(115799.73, 119528.0]</th>\n      <td>20</td>\n    </tr>\n  </tbody>\n</table>\n</div>"
     },
     "metadata": {},
     "execution_count": 12
    }
   ],
   "source": [
    "cotacoes_s2.analise.tabela_classes_cotacoes('Open')"
   ]
  },
  {
   "cell_type": "code",
   "execution_count": 13,
   "metadata": {},
   "outputs": [
    {
     "output_type": "execute_result",
     "data": {
      "text/plain": [
       "55924.0"
      ]
     },
     "metadata": {},
     "execution_count": 13
    }
   ],
   "source": [
    "cotacoes_s2.analise.amplitude('Open')"
   ]
  },
  {
   "cell_type": "code",
   "execution_count": 14,
   "metadata": {},
   "outputs": [
    {
     "output_type": "execute_result",
     "data": {
      "text/plain": [
       "                Open     Close      High       Low       Volume\n",
       "Date                                                           \n",
       "2020-01-31  115652.0  113761.0  119593.0  112825.0  122061200.0\n",
       "2020-02-29  113761.0  104172.0  117701.0   99951.0  112914700.0\n",
       "2020-03-31  104260.0   73020.0  108804.0   61691.0  270525000.0\n",
       "2020-04-30   73011.0   80506.0   83598.0   67802.0  209517900.0\n",
       "2020-05-31   80501.0   87403.0   88091.0   75697.0  220355900.0\n",
       "2020-06-30   87395.0   95056.0   97693.0   86837.0  232321100.0\n",
       "2020-07-31   95062.0  102912.0  105704.0   95062.0  212054200.0\n",
       "2020-08-31  102913.0   99369.0  104523.0   98513.0  202682200.0\n",
       "2020-09-30   99382.0   94603.0  103226.0   93408.0  182459100.0\n",
       "2020-10-31   94604.0   93952.0  102218.0   93387.0  198128300.0\n",
       "2020-11-30   93968.0  108888.0  111603.0   93968.0  210654500.0\n",
       "2020-12-31  108897.0  114992.0  115262.0  108897.0   80185700.0"
      ],
      "text/html": "<div>\n<style scoped>\n    .dataframe tbody tr th:only-of-type {\n        vertical-align: middle;\n    }\n\n    .dataframe tbody tr th {\n        vertical-align: top;\n    }\n\n    .dataframe thead th {\n        text-align: right;\n    }\n</style>\n<table border=\"1\" class=\"dataframe\">\n  <thead>\n    <tr style=\"text-align: right;\">\n      <th></th>\n      <th>Open</th>\n      <th>Close</th>\n      <th>High</th>\n      <th>Low</th>\n      <th>Volume</th>\n    </tr>\n    <tr>\n      <th>Date</th>\n      <th></th>\n      <th></th>\n      <th></th>\n      <th></th>\n      <th></th>\n    </tr>\n  </thead>\n  <tbody>\n    <tr>\n      <th>2020-01-31</th>\n      <td>115652.0</td>\n      <td>113761.0</td>\n      <td>119593.0</td>\n      <td>112825.0</td>\n      <td>122061200.0</td>\n    </tr>\n    <tr>\n      <th>2020-02-29</th>\n      <td>113761.0</td>\n      <td>104172.0</td>\n      <td>117701.0</td>\n      <td>99951.0</td>\n      <td>112914700.0</td>\n    </tr>\n    <tr>\n      <th>2020-03-31</th>\n      <td>104260.0</td>\n      <td>73020.0</td>\n      <td>108804.0</td>\n      <td>61691.0</td>\n      <td>270525000.0</td>\n    </tr>\n    <tr>\n      <th>2020-04-30</th>\n      <td>73011.0</td>\n      <td>80506.0</td>\n      <td>83598.0</td>\n      <td>67802.0</td>\n      <td>209517900.0</td>\n    </tr>\n    <tr>\n      <th>2020-05-31</th>\n      <td>80501.0</td>\n      <td>87403.0</td>\n      <td>88091.0</td>\n      <td>75697.0</td>\n      <td>220355900.0</td>\n    </tr>\n    <tr>\n      <th>2020-06-30</th>\n      <td>87395.0</td>\n      <td>95056.0</td>\n      <td>97693.0</td>\n      <td>86837.0</td>\n      <td>232321100.0</td>\n    </tr>\n    <tr>\n      <th>2020-07-31</th>\n      <td>95062.0</td>\n      <td>102912.0</td>\n      <td>105704.0</td>\n      <td>95062.0</td>\n      <td>212054200.0</td>\n    </tr>\n    <tr>\n      <th>2020-08-31</th>\n      <td>102913.0</td>\n      <td>99369.0</td>\n      <td>104523.0</td>\n      <td>98513.0</td>\n      <td>202682200.0</td>\n    </tr>\n    <tr>\n      <th>2020-09-30</th>\n      <td>99382.0</td>\n      <td>94603.0</td>\n      <td>103226.0</td>\n      <td>93408.0</td>\n      <td>182459100.0</td>\n    </tr>\n    <tr>\n      <th>2020-10-31</th>\n      <td>94604.0</td>\n      <td>93952.0</td>\n      <td>102218.0</td>\n      <td>93387.0</td>\n      <td>198128300.0</td>\n    </tr>\n    <tr>\n      <th>2020-11-30</th>\n      <td>93968.0</td>\n      <td>108888.0</td>\n      <td>111603.0</td>\n      <td>93968.0</td>\n      <td>210654500.0</td>\n    </tr>\n    <tr>\n      <th>2020-12-31</th>\n      <td>108897.0</td>\n      <td>114992.0</td>\n      <td>115262.0</td>\n      <td>108897.0</td>\n      <td>80185700.0</td>\n    </tr>\n  </tbody>\n</table>\n</div>"
     },
     "metadata": {},
     "execution_count": 14
    }
   ],
   "source": [
    "cotacoes_s2.analise.cotacao_agrupada_por_periodo('M')"
   ]
  },
  {
   "cell_type": "code",
   "execution_count": 15,
   "metadata": {},
   "outputs": [
    {
     "output_type": "execute_result",
     "data": {
      "text/plain": [
       "                Open     Close      High       Low       Volume  Open-High\n",
       "Date                                                                      \n",
       "2020-01-31  115652.0  113761.0  119593.0  112825.0  122061200.0    -3941.0\n",
       "2020-02-29  113761.0  104172.0  117701.0   99951.0  112914700.0    -3940.0\n",
       "2020-03-31  104260.0   73020.0  108804.0   61691.0  270525000.0    -4544.0\n",
       "2020-04-30   73011.0   80506.0   83598.0   67802.0  209517900.0   -10587.0\n",
       "2020-05-31   80501.0   87403.0   88091.0   75697.0  220355900.0    -7590.0\n",
       "2020-06-30   87395.0   95056.0   97693.0   86837.0  232321100.0   -10298.0\n",
       "2020-07-31   95062.0  102912.0  105704.0   95062.0  212054200.0   -10642.0\n",
       "2020-08-31  102913.0   99369.0  104523.0   98513.0  202682200.0    -1610.0\n",
       "2020-09-30   99382.0   94603.0  103226.0   93408.0  182459100.0    -3844.0\n",
       "2020-10-31   94604.0   93952.0  102218.0   93387.0  198128300.0    -7614.0\n",
       "2020-11-30   93968.0  108888.0  111603.0   93968.0  210654500.0   -17635.0\n",
       "2020-12-31  108897.0  114992.0  115262.0  108897.0   80185700.0    -6365.0"
      ],
      "text/html": "<div>\n<style scoped>\n    .dataframe tbody tr th:only-of-type {\n        vertical-align: middle;\n    }\n\n    .dataframe tbody tr th {\n        vertical-align: top;\n    }\n\n    .dataframe thead th {\n        text-align: right;\n    }\n</style>\n<table border=\"1\" class=\"dataframe\">\n  <thead>\n    <tr style=\"text-align: right;\">\n      <th></th>\n      <th>Open</th>\n      <th>Close</th>\n      <th>High</th>\n      <th>Low</th>\n      <th>Volume</th>\n      <th>Open-High</th>\n    </tr>\n    <tr>\n      <th>Date</th>\n      <th></th>\n      <th></th>\n      <th></th>\n      <th></th>\n      <th></th>\n      <th></th>\n    </tr>\n  </thead>\n  <tbody>\n    <tr>\n      <th>2020-01-31</th>\n      <td>115652.0</td>\n      <td>113761.0</td>\n      <td>119593.0</td>\n      <td>112825.0</td>\n      <td>122061200.0</td>\n      <td>-3941.0</td>\n    </tr>\n    <tr>\n      <th>2020-02-29</th>\n      <td>113761.0</td>\n      <td>104172.0</td>\n      <td>117701.0</td>\n      <td>99951.0</td>\n      <td>112914700.0</td>\n      <td>-3940.0</td>\n    </tr>\n    <tr>\n      <th>2020-03-31</th>\n      <td>104260.0</td>\n      <td>73020.0</td>\n      <td>108804.0</td>\n      <td>61691.0</td>\n      <td>270525000.0</td>\n      <td>-4544.0</td>\n    </tr>\n    <tr>\n      <th>2020-04-30</th>\n      <td>73011.0</td>\n      <td>80506.0</td>\n      <td>83598.0</td>\n      <td>67802.0</td>\n      <td>209517900.0</td>\n      <td>-10587.0</td>\n    </tr>\n    <tr>\n      <th>2020-05-31</th>\n      <td>80501.0</td>\n      <td>87403.0</td>\n      <td>88091.0</td>\n      <td>75697.0</td>\n      <td>220355900.0</td>\n      <td>-7590.0</td>\n    </tr>\n    <tr>\n      <th>2020-06-30</th>\n      <td>87395.0</td>\n      <td>95056.0</td>\n      <td>97693.0</td>\n      <td>86837.0</td>\n      <td>232321100.0</td>\n      <td>-10298.0</td>\n    </tr>\n    <tr>\n      <th>2020-07-31</th>\n      <td>95062.0</td>\n      <td>102912.0</td>\n      <td>105704.0</td>\n      <td>95062.0</td>\n      <td>212054200.0</td>\n      <td>-10642.0</td>\n    </tr>\n    <tr>\n      <th>2020-08-31</th>\n      <td>102913.0</td>\n      <td>99369.0</td>\n      <td>104523.0</td>\n      <td>98513.0</td>\n      <td>202682200.0</td>\n      <td>-1610.0</td>\n    </tr>\n    <tr>\n      <th>2020-09-30</th>\n      <td>99382.0</td>\n      <td>94603.0</td>\n      <td>103226.0</td>\n      <td>93408.0</td>\n      <td>182459100.0</td>\n      <td>-3844.0</td>\n    </tr>\n    <tr>\n      <th>2020-10-31</th>\n      <td>94604.0</td>\n      <td>93952.0</td>\n      <td>102218.0</td>\n      <td>93387.0</td>\n      <td>198128300.0</td>\n      <td>-7614.0</td>\n    </tr>\n    <tr>\n      <th>2020-11-30</th>\n      <td>93968.0</td>\n      <td>108888.0</td>\n      <td>111603.0</td>\n      <td>93968.0</td>\n      <td>210654500.0</td>\n      <td>-17635.0</td>\n    </tr>\n    <tr>\n      <th>2020-12-31</th>\n      <td>108897.0</td>\n      <td>114992.0</td>\n      <td>115262.0</td>\n      <td>108897.0</td>\n      <td>80185700.0</td>\n      <td>-6365.0</td>\n    </tr>\n  </tbody>\n</table>\n</div>"
     },
     "metadata": {},
     "execution_count": 15
    }
   ],
   "source": [
    "cotacoes_s2.analise.diferenca_periodo('Open', 'High', tabelaid='cotacao_agrupada_por_periodo')"
   ]
  },
  {
   "cell_type": "code",
   "execution_count": 16,
   "metadata": {},
   "outputs": [
    {
     "output_type": "execute_result",
     "data": {
      "text/plain": [
       "                Open     Close      High       Low       Volume  Open-High  Close-Open\n",
       "Date                                                                                  \n",
       "2020-01-31  115652.0  113761.0  119593.0  112825.0  122061200.0    -3941.0         NaN\n",
       "2020-02-29  113761.0  104172.0  117701.0   99951.0  112914700.0    -3940.0         0.0\n",
       "2020-03-31  104260.0   73020.0  108804.0   61691.0  270525000.0    -4544.0       -88.0\n",
       "2020-04-30   73011.0   80506.0   83598.0   67802.0  209517900.0   -10587.0         9.0\n",
       "2020-05-31   80501.0   87403.0   88091.0   75697.0  220355900.0    -7590.0         5.0\n",
       "2020-06-30   87395.0   95056.0   97693.0   86837.0  232321100.0   -10298.0         8.0\n",
       "2020-07-31   95062.0  102912.0  105704.0   95062.0  212054200.0   -10642.0        -6.0\n",
       "2020-08-31  102913.0   99369.0  104523.0   98513.0  202682200.0    -1610.0        -1.0\n",
       "2020-09-30   99382.0   94603.0  103226.0   93408.0  182459100.0    -3844.0       -13.0\n",
       "2020-10-31   94604.0   93952.0  102218.0   93387.0  198128300.0    -7614.0        -1.0\n",
       "2020-11-30   93968.0  108888.0  111603.0   93968.0  210654500.0   -17635.0       -16.0\n",
       "2020-12-31  108897.0  114992.0  115262.0  108897.0   80185700.0    -6365.0        -9.0"
      ],
      "text/html": "<div>\n<style scoped>\n    .dataframe tbody tr th:only-of-type {\n        vertical-align: middle;\n    }\n\n    .dataframe tbody tr th {\n        vertical-align: top;\n    }\n\n    .dataframe thead th {\n        text-align: right;\n    }\n</style>\n<table border=\"1\" class=\"dataframe\">\n  <thead>\n    <tr style=\"text-align: right;\">\n      <th></th>\n      <th>Open</th>\n      <th>Close</th>\n      <th>High</th>\n      <th>Low</th>\n      <th>Volume</th>\n      <th>Open-High</th>\n      <th>Close-Open</th>\n    </tr>\n    <tr>\n      <th>Date</th>\n      <th></th>\n      <th></th>\n      <th></th>\n      <th></th>\n      <th></th>\n      <th></th>\n      <th></th>\n    </tr>\n  </thead>\n  <tbody>\n    <tr>\n      <th>2020-01-31</th>\n      <td>115652.0</td>\n      <td>113761.0</td>\n      <td>119593.0</td>\n      <td>112825.0</td>\n      <td>122061200.0</td>\n      <td>-3941.0</td>\n      <td>NaN</td>\n    </tr>\n    <tr>\n      <th>2020-02-29</th>\n      <td>113761.0</td>\n      <td>104172.0</td>\n      <td>117701.0</td>\n      <td>99951.0</td>\n      <td>112914700.0</td>\n      <td>-3940.0</td>\n      <td>0.0</td>\n    </tr>\n    <tr>\n      <th>2020-03-31</th>\n      <td>104260.0</td>\n      <td>73020.0</td>\n      <td>108804.0</td>\n      <td>61691.0</td>\n      <td>270525000.0</td>\n      <td>-4544.0</td>\n      <td>-88.0</td>\n    </tr>\n    <tr>\n      <th>2020-04-30</th>\n      <td>73011.0</td>\n      <td>80506.0</td>\n      <td>83598.0</td>\n      <td>67802.0</td>\n      <td>209517900.0</td>\n      <td>-10587.0</td>\n      <td>9.0</td>\n    </tr>\n    <tr>\n      <th>2020-05-31</th>\n      <td>80501.0</td>\n      <td>87403.0</td>\n      <td>88091.0</td>\n      <td>75697.0</td>\n      <td>220355900.0</td>\n      <td>-7590.0</td>\n      <td>5.0</td>\n    </tr>\n    <tr>\n      <th>2020-06-30</th>\n      <td>87395.0</td>\n      <td>95056.0</td>\n      <td>97693.0</td>\n      <td>86837.0</td>\n      <td>232321100.0</td>\n      <td>-10298.0</td>\n      <td>8.0</td>\n    </tr>\n    <tr>\n      <th>2020-07-31</th>\n      <td>95062.0</td>\n      <td>102912.0</td>\n      <td>105704.0</td>\n      <td>95062.0</td>\n      <td>212054200.0</td>\n      <td>-10642.0</td>\n      <td>-6.0</td>\n    </tr>\n    <tr>\n      <th>2020-08-31</th>\n      <td>102913.0</td>\n      <td>99369.0</td>\n      <td>104523.0</td>\n      <td>98513.0</td>\n      <td>202682200.0</td>\n      <td>-1610.0</td>\n      <td>-1.0</td>\n    </tr>\n    <tr>\n      <th>2020-09-30</th>\n      <td>99382.0</td>\n      <td>94603.0</td>\n      <td>103226.0</td>\n      <td>93408.0</td>\n      <td>182459100.0</td>\n      <td>-3844.0</td>\n      <td>-13.0</td>\n    </tr>\n    <tr>\n      <th>2020-10-31</th>\n      <td>94604.0</td>\n      <td>93952.0</td>\n      <td>102218.0</td>\n      <td>93387.0</td>\n      <td>198128300.0</td>\n      <td>-7614.0</td>\n      <td>-1.0</td>\n    </tr>\n    <tr>\n      <th>2020-11-30</th>\n      <td>93968.0</td>\n      <td>108888.0</td>\n      <td>111603.0</td>\n      <td>93968.0</td>\n      <td>210654500.0</td>\n      <td>-17635.0</td>\n      <td>-16.0</td>\n    </tr>\n    <tr>\n      <th>2020-12-31</th>\n      <td>108897.0</td>\n      <td>114992.0</td>\n      <td>115262.0</td>\n      <td>108897.0</td>\n      <td>80185700.0</td>\n      <td>-6365.0</td>\n      <td>-9.0</td>\n    </tr>\n  </tbody>\n</table>\n</div>"
     },
     "metadata": {},
     "execution_count": 16
    }
   ],
   "source": [
    "cotacoes_s2.analise.diferenca_periodo(\n",
    "    'Close', 'Open', periodos_consecutivos=True, tabelaid='cotacao_agrupada_por_periodo')"
   ]
  },
  {
   "cell_type": "code",
   "execution_count": 17,
   "metadata": {},
   "outputs": [
    {
     "output_type": "execute_result",
     "data": {
      "text/plain": [
       "                Open     Close      High       Low       Volume  Open-High  Close-Open  Rel Volume    Cum Volume  Cum Rel Volume\n",
       "Date                                                                                                                            \n",
       "2020-01-31  115652.0  113761.0  119593.0  112825.0  122061200.0    -3941.0         NaN    5.415652  1.220612e+08        5.415652\n",
       "2020-02-29  113761.0  104172.0  117701.0   99951.0  112914700.0    -3940.0         0.0    5.009837  2.349759e+08       10.425489\n",
       "2020-03-31  104260.0   73020.0  108804.0   61691.0  270525000.0    -4544.0       -88.0   12.002743  5.055009e+08       22.428232\n",
       "2020-04-30   73011.0   80506.0   83598.0   67802.0  209517900.0   -10587.0         9.0    9.295960  7.150188e+08       31.724192\n",
       "2020-05-31   80501.0   87403.0   88091.0   75697.0  220355900.0    -7590.0         5.0    9.776824  9.353747e+08       41.501015\n",
       "2020-06-30   87395.0   95056.0   97693.0   86837.0  232321100.0   -10298.0         8.0   10.307700  1.167696e+09       51.808715\n",
       "2020-07-31   95062.0  102912.0  105704.0   95062.0  212054200.0   -10642.0        -6.0    9.408491  1.379750e+09       61.217206\n",
       "2020-08-31  102913.0   99369.0  104523.0   98513.0  202682200.0    -1610.0        -1.0    8.992671  1.582432e+09       70.209877\n",
       "2020-09-30   99382.0   94603.0  103226.0   93408.0  182459100.0    -3844.0       -13.0    8.095406  1.764891e+09       78.305283\n",
       "2020-10-31   94604.0   93952.0  102218.0   93387.0  198128300.0    -7614.0        -1.0    8.790622  1.963020e+09       87.095905\n",
       "2020-11-30   93968.0  108888.0  111603.0   93968.0  210654500.0   -17635.0       -16.0    9.346389  2.173674e+09       96.442294\n",
       "2020-12-31  108897.0  114992.0  115262.0  108897.0   80185700.0    -6365.0        -9.0    3.557706  2.253860e+09      100.000000"
      ],
      "text/html": "<div>\n<style scoped>\n    .dataframe tbody tr th:only-of-type {\n        vertical-align: middle;\n    }\n\n    .dataframe tbody tr th {\n        vertical-align: top;\n    }\n\n    .dataframe thead th {\n        text-align: right;\n    }\n</style>\n<table border=\"1\" class=\"dataframe\">\n  <thead>\n    <tr style=\"text-align: right;\">\n      <th></th>\n      <th>Open</th>\n      <th>Close</th>\n      <th>High</th>\n      <th>Low</th>\n      <th>Volume</th>\n      <th>Open-High</th>\n      <th>Close-Open</th>\n      <th>Rel Volume</th>\n      <th>Cum Volume</th>\n      <th>Cum Rel Volume</th>\n    </tr>\n    <tr>\n      <th>Date</th>\n      <th></th>\n      <th></th>\n      <th></th>\n      <th></th>\n      <th></th>\n      <th></th>\n      <th></th>\n      <th></th>\n      <th></th>\n      <th></th>\n    </tr>\n  </thead>\n  <tbody>\n    <tr>\n      <th>2020-01-31</th>\n      <td>115652.0</td>\n      <td>113761.0</td>\n      <td>119593.0</td>\n      <td>112825.0</td>\n      <td>122061200.0</td>\n      <td>-3941.0</td>\n      <td>NaN</td>\n      <td>5.415652</td>\n      <td>1.220612e+08</td>\n      <td>5.415652</td>\n    </tr>\n    <tr>\n      <th>2020-02-29</th>\n      <td>113761.0</td>\n      <td>104172.0</td>\n      <td>117701.0</td>\n      <td>99951.0</td>\n      <td>112914700.0</td>\n      <td>-3940.0</td>\n      <td>0.0</td>\n      <td>5.009837</td>\n      <td>2.349759e+08</td>\n      <td>10.425489</td>\n    </tr>\n    <tr>\n      <th>2020-03-31</th>\n      <td>104260.0</td>\n      <td>73020.0</td>\n      <td>108804.0</td>\n      <td>61691.0</td>\n      <td>270525000.0</td>\n      <td>-4544.0</td>\n      <td>-88.0</td>\n      <td>12.002743</td>\n      <td>5.055009e+08</td>\n      <td>22.428232</td>\n    </tr>\n    <tr>\n      <th>2020-04-30</th>\n      <td>73011.0</td>\n      <td>80506.0</td>\n      <td>83598.0</td>\n      <td>67802.0</td>\n      <td>209517900.0</td>\n      <td>-10587.0</td>\n      <td>9.0</td>\n      <td>9.295960</td>\n      <td>7.150188e+08</td>\n      <td>31.724192</td>\n    </tr>\n    <tr>\n      <th>2020-05-31</th>\n      <td>80501.0</td>\n      <td>87403.0</td>\n      <td>88091.0</td>\n      <td>75697.0</td>\n      <td>220355900.0</td>\n      <td>-7590.0</td>\n      <td>5.0</td>\n      <td>9.776824</td>\n      <td>9.353747e+08</td>\n      <td>41.501015</td>\n    </tr>\n    <tr>\n      <th>2020-06-30</th>\n      <td>87395.0</td>\n      <td>95056.0</td>\n      <td>97693.0</td>\n      <td>86837.0</td>\n      <td>232321100.0</td>\n      <td>-10298.0</td>\n      <td>8.0</td>\n      <td>10.307700</td>\n      <td>1.167696e+09</td>\n      <td>51.808715</td>\n    </tr>\n    <tr>\n      <th>2020-07-31</th>\n      <td>95062.0</td>\n      <td>102912.0</td>\n      <td>105704.0</td>\n      <td>95062.0</td>\n      <td>212054200.0</td>\n      <td>-10642.0</td>\n      <td>-6.0</td>\n      <td>9.408491</td>\n      <td>1.379750e+09</td>\n      <td>61.217206</td>\n    </tr>\n    <tr>\n      <th>2020-08-31</th>\n      <td>102913.0</td>\n      <td>99369.0</td>\n      <td>104523.0</td>\n      <td>98513.0</td>\n      <td>202682200.0</td>\n      <td>-1610.0</td>\n      <td>-1.0</td>\n      <td>8.992671</td>\n      <td>1.582432e+09</td>\n      <td>70.209877</td>\n    </tr>\n    <tr>\n      <th>2020-09-30</th>\n      <td>99382.0</td>\n      <td>94603.0</td>\n      <td>103226.0</td>\n      <td>93408.0</td>\n      <td>182459100.0</td>\n      <td>-3844.0</td>\n      <td>-13.0</td>\n      <td>8.095406</td>\n      <td>1.764891e+09</td>\n      <td>78.305283</td>\n    </tr>\n    <tr>\n      <th>2020-10-31</th>\n      <td>94604.0</td>\n      <td>93952.0</td>\n      <td>102218.0</td>\n      <td>93387.0</td>\n      <td>198128300.0</td>\n      <td>-7614.0</td>\n      <td>-1.0</td>\n      <td>8.790622</td>\n      <td>1.963020e+09</td>\n      <td>87.095905</td>\n    </tr>\n    <tr>\n      <th>2020-11-30</th>\n      <td>93968.0</td>\n      <td>108888.0</td>\n      <td>111603.0</td>\n      <td>93968.0</td>\n      <td>210654500.0</td>\n      <td>-17635.0</td>\n      <td>-16.0</td>\n      <td>9.346389</td>\n      <td>2.173674e+09</td>\n      <td>96.442294</td>\n    </tr>\n    <tr>\n      <th>2020-12-31</th>\n      <td>108897.0</td>\n      <td>114992.0</td>\n      <td>115262.0</td>\n      <td>108897.0</td>\n      <td>80185700.0</td>\n      <td>-6365.0</td>\n      <td>-9.0</td>\n      <td>3.557706</td>\n      <td>2.253860e+09</td>\n      <td>100.000000</td>\n    </tr>\n  </tbody>\n</table>\n</div>"
     },
     "metadata": {},
     "execution_count": 17
    }
   ],
   "source": [
    "cotacoes_s2.analise.colunas_frequencias('Volume', tabelaid='cotacao_agrupada_por_periodo')"
   ]
  }
 ]
}